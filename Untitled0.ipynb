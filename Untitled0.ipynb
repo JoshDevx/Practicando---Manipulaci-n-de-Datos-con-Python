{
  "nbformat": 4,
  "nbformat_minor": 0,
  "metadata": {
    "colab": {
      "provenance": [],
      "authorship_tag": "ABX9TyNjIsGNoLNkuyyQFjcRdFzs",
      "include_colab_link": true
    },
    "kernelspec": {
      "name": "python3",
      "display_name": "Python 3"
    },
    "language_info": {
      "name": "python"
    }
  },
  "cells": [
    {
      "cell_type": "markdown",
      "metadata": {
        "id": "view-in-github",
        "colab_type": "text"
      },
      "source": [
        "<a href=\"https://colab.research.google.com/github/JoshDevx/Practicando---Manipulaci-n-de-Datos-con-Python/blob/main/Untitled0.ipynb\" target=\"_parent\"><img src=\"https://colab.research.google.com/assets/colab-badge.svg\" alt=\"Open In Colab\"/></a>"
      ]
    },
    {
      "cell_type": "markdown",
      "source": [
        "**Parcticando Python**"
      ],
      "metadata": {
        "id": "o-GqcNeNzyJ6"
      }
    },
    {
      "cell_type": "code",
      "execution_count": 1,
      "metadata": {
        "id": "bdk2QdumzvtG",
        "colab": {
          "base_uri": "https://localhost:8080/"
        },
        "outputId": "c1fe384c-d1b8-435f-d853-f7999fc8d77c"
      },
      "outputs": [
        {
          "output_type": "stream",
          "name": "stdout",
          "text": [
            "Hola mundo!\n"
          ]
        }
      ],
      "source": [
        "#Este es un comentario\n",
        "print('Hola mundo!')"
      ]
    },
    {
      "cell_type": "code",
      "source": [
        "#Variables\n",
        "soy_una_variable = 'Hola'\n",
        "print(soy_una_variable)"
      ],
      "metadata": {
        "colab": {
          "base_uri": "https://localhost:8080/"
        },
        "id": "s5LRYf2wS5DV",
        "outputId": "777af8b8-f23f-47c1-e498-7243b2728d44"
      },
      "execution_count": 2,
      "outputs": [
        {
          "output_type": "stream",
          "name": "stdout",
          "text": [
            "Hola\n"
          ]
        }
      ]
    },
    {
      "cell_type": "code",
      "source": [
        "#usamos -> id para saber donde se almacena el valor de la variable\n",
        "print(id(soy_una_variable))"
      ],
      "metadata": {
        "colab": {
          "base_uri": "https://localhost:8080/"
        },
        "id": "tb8HJJ81S90T",
        "outputId": "5d36b3fd-6174-4d3a-cb0c-2f135925cbc2"
      },
      "execution_count": 3,
      "outputs": [
        {
          "output_type": "stream",
          "name": "stdout",
          "text": [
            "133826232726000\n"
          ]
        }
      ]
    },
    {
      "cell_type": "code",
      "source": [
        "#Tipos de datos\n",
        "\n",
        "#Tipo int\n",
        "number = 1\n",
        "print(type(number))"
      ],
      "metadata": {
        "colab": {
          "base_uri": "https://localhost:8080/"
        },
        "id": "IIiu6ABYTFzL",
        "outputId": "38e35c16-6621-4638-bdaa-a3f03de2d547"
      },
      "execution_count": 5,
      "outputs": [
        {
          "output_type": "stream",
          "name": "stdout",
          "text": [
            "<class 'int'>\n"
          ]
        }
      ]
    },
    {
      "cell_type": "code",
      "source": [
        "#Tipo float\n",
        "number = 1.2\n",
        "print(type(number))\n"
      ],
      "metadata": {
        "colab": {
          "base_uri": "https://localhost:8080/"
        },
        "id": "-V6m9N2JTq6a",
        "outputId": "ca224471-277d-4089-b969-ddacda404c2c"
      },
      "execution_count": 6,
      "outputs": [
        {
          "output_type": "stream",
          "name": "stdout",
          "text": [
            "<class 'float'>\n"
          ]
        }
      ]
    },
    {
      "cell_type": "code",
      "source": [
        "#tipo booleano\n",
        "aprobado = True\n",
        "print(type(aprobado))"
      ],
      "metadata": {
        "colab": {
          "base_uri": "https://localhost:8080/"
        },
        "id": "efBhH4MZT0hy",
        "outputId": "f0559799-2791-4620-bc64-5aecf499a1c0"
      },
      "execution_count": 7,
      "outputs": [
        {
          "output_type": "stream",
          "name": "stdout",
          "text": [
            "<class 'bool'>\n"
          ]
        }
      ]
    },
    {
      "cell_type": "code",
      "source": [
        "#Algunos metodos de String\n",
        "#Podemos crear Strings cuando atribuimos un dato a una variable entre comillas sencillas (') o comillas dobles (\").\n",
        "\n",
        "#convertir a mayusculas\n",
        "nombre = ' Joshua'\n",
        "print(nombre.upper())\n",
        "\n",
        "#convertir a minusculas\n",
        "apellido = ' Mendoza'\n",
        "print(apellido.lower())"
      ],
      "metadata": {
        "colab": {
          "base_uri": "https://localhost:8080/"
        },
        "id": "k87VLcnmT4bK",
        "outputId": "cf747535-09fb-4502-d531-a188fbdf408f"
      },
      "execution_count": 11,
      "outputs": [
        {
          "output_type": "stream",
          "name": "stdout",
          "text": [
            " JOSHUA\n",
            " mendoza\n"
          ]
        }
      ]
    },
    {
      "cell_type": "code",
      "source": [
        "#Eliminar espacios en blanco\n",
        "nombre = ' Joshua '\n",
        "print(nombre.strip())\n",
        "\n",
        "#Reemplazar\n",
        "nombre = ' Joshua '\n",
        "print(nombre.replace('u','o'))"
      ],
      "metadata": {
        "colab": {
          "base_uri": "https://localhost:8080/"
        },
        "id": "2GnT7giSUQGS",
        "outputId": "3eca262d-5f53-4bb3-8962-a3a87f96718b"
      },
      "execution_count": 10,
      "outputs": [
        {
          "output_type": "stream",
          "name": "stdout",
          "text": [
            "Joshua\n",
            " Joshoa \n"
          ]
        }
      ]
    },
    {
      "cell_type": "code",
      "source": [
        "#Usamos -> \\t -> para dar una tabulacion y \\n para dar un salto de linea\n",
        "#usamor format -> f -> para agregar nuestras variables en el print\n",
        "print(f'\\tMi Nombre es: {nombre.upper()} \\n\\tMi apellido es: {apellido.upper()}')"
      ],
      "metadata": {
        "colab": {
          "base_uri": "https://localhost:8080/"
        },
        "id": "Be72_IvdUd7i",
        "outputId": "babfcfb6-9656-4a96-9221-823d95e6a086"
      },
      "execution_count": 13,
      "outputs": [
        {
          "output_type": "stream",
          "name": "stdout",
          "text": [
            "\tMi Nombre es:  JOSHUA \n",
            "\tMi apellido es:  MENDOZA\n"
          ]
        }
      ]
    },
    {
      "cell_type": "code",
      "source": [
        "#INPUT\n",
        "nombre = input('Ingresa tu nombre: ')\n",
        "print(f'Hola {nombre}')\n"
      ],
      "metadata": {
        "colab": {
          "base_uri": "https://localhost:8080/"
        },
        "id": "56dQqtzdU8rC",
        "outputId": "15932c74-7f49-4e5f-96d6-83cdcf9449dc"
      },
      "execution_count": 2,
      "outputs": [
        {
          "output_type": "stream",
          "name": "stdout",
          "text": [
            "Ingresa tu nombre: Joshua\n",
            "Hola Joshua\n"
          ]
        }
      ]
    },
    {
      "cell_type": "markdown",
      "source": [
        "#Valores Unicode\n",
        "[Unicode](https://www.unicode.org/versions/stats/)\n",
        "\n"
      ],
      "metadata": {
        "id": "fZaskDEUyffv"
      }
    },
    {
      "cell_type": "code",
      "source": [
        "#Valores Unicode\n",
        "chr(64)"
      ],
      "metadata": {
        "colab": {
          "base_uri": "https://localhost:8080/",
          "height": 35
        },
        "id": "pdUpTeGUyM1F",
        "outputId": "8f1e5b5c-bfe7-4166-81f5-ba953f40fe9d"
      },
      "execution_count": 7,
      "outputs": [
        {
          "output_type": "execute_result",
          "data": {
            "text/plain": [
              "'@'"
            ],
            "application/vnd.google.colaboratory.intrinsic+json": {
              "type": "string"
            }
          },
          "metadata": {},
          "execution_count": 7
        }
      ]
    },
    {
      "cell_type": "code",
      "source": [
        "#Hola\n",
        "chr(72) + chr(111) +  chr(108) + chr(97)"
      ],
      "metadata": {
        "colab": {
          "base_uri": "https://localhost:8080/",
          "height": 35
        },
        "id": "-Zt6Xo_ny8gV",
        "outputId": "d24e65a0-2ec8-49f3-a3dd-cdc2ae003325"
      },
      "execution_count": 6,
      "outputs": [
        {
          "output_type": "execute_result",
          "data": {
            "text/plain": [
              "'Hola'"
            ],
            "application/vnd.google.colaboratory.intrinsic+json": {
              "type": "string"
            }
          },
          "metadata": {},
          "execution_count": 6
        }
      ]
    },
    {
      "cell_type": "markdown",
      "source": [
        "#Formatos de\n",
        "\n",
        "```\n",
        "print()\n",
        "```\n",
        "\n",
        ""
      ],
      "metadata": {
        "id": "DAdfxI3kzxVO"
      }
    },
    {
      "cell_type": "code",
      "source": [
        "#f-string\n",
        "nombre = \"Ana María\"\n",
        "edad = 17\n",
        "print(f\"El nombre de la alumna es {nombre} y su edad es {edad} años.\")"
      ],
      "metadata": {
        "colab": {
          "base_uri": "https://localhost:8080/"
        },
        "id": "V4Cumjp2zBkF",
        "outputId": "918b82a9-a112-4e9d-bb8e-cdd105427c4a"
      },
      "execution_count": 8,
      "outputs": [
        {
          "output_type": "stream",
          "name": "stdout",
          "text": [
            "El nombre de la alumna es Ana María y su edad es 17 años.\n"
          ]
        }
      ]
    },
    {
      "cell_type": "markdown",
      "source": [
        "#Tipo de Variable\tPalabra Clave\n",
        "- Cadena de texto\t```\n",
        "%s\n",
        "```\n",
        "- Entero ```\n",
        "%d\n",
        "```\n",
        "- Punto flotante\t ```\n",
        "%f\n",
        "```\n",
        "- Caractér ```\n",
        "%c\n",
        "```"
      ],
      "metadata": {
        "id": "Gm8UP6bG0EnO"
      }
    },
    {
      "cell_type": "code",
      "source": [
        "#El % debe ir acompañado de una palabra clave para cada tipo de variable que se desee agregar.\n",
        "nombre_alumno = 'Penélope Camacho'\n",
        "print('Nombre del alumno: %s' %(nombre_alumno))"
      ],
      "metadata": {
        "id": "B-3uTHurz99t",
        "outputId": "d560e54f-7f44-49ee-d691-f5ef4f1be749",
        "colab": {
          "base_uri": "https://localhost:8080/"
        }
      },
      "execution_count": 9,
      "outputs": [
        {
          "output_type": "stream",
          "name": "stdout",
          "text": [
            "Nombre del alumno: Penélope Camacho\n"
          ]
        }
      ]
    },
    {
      "cell_type": "code",
      "source": [
        "#Si tienes más de una variable, debes ordenarlas según su aparición en el texto y separarlas por comas.\n",
        "nombre_alumno = 'Penélope Camacho'\n",
        "edad_alumno = 11\n",
        "media_alumno = 9.95\n",
        "print('Nombre del alumno es %s, tiene %d años y su media es %f.' %(nombre_alumno, edad_alumno, media_alumno))"
      ],
      "metadata": {
        "id": "y2h57J390lKm",
        "outputId": "5dbf2c32-ddc7-4a2f-cea3-b4d4d9a993d4",
        "colab": {
          "base_uri": "https://localhost:8080/"
        }
      },
      "execution_count": 10,
      "outputs": [
        {
          "output_type": "stream",
          "name": "stdout",
          "text": [
            "Nombre del alumno es Penélope Camacho, tiene 11 años y su media es 9.950000.\n"
          ]
        }
      ]
    },
    {
      "cell_type": "code",
      "source": [
        "#sintaxis %.xf, donde x es el número de decimales deseados.\n",
        "print('Nombre del alumno es %s, tiene %d años y su media es %.2f.' %(nombre_alumno, edad_alumno, media_alumno))"
      ],
      "metadata": {
        "id": "0cTn11da0oel",
        "outputId": "aa26d653-26a1-4616-858b-ee6d917889c7",
        "colab": {
          "base_uri": "https://localhost:8080/"
        }
      },
      "execution_count": 11,
      "outputs": [
        {
          "output_type": "stream",
          "name": "stdout",
          "text": [
            "Nombre del alumno es Penélope Camacho, tiene 11 años y su media es 9.95.\n"
          ]
        }
      ]
    },
    {
      "cell_type": "code",
      "source": [
        "#% no funcionan directamente con valores booleanos.\n",
        "#Una forma de manejarlo es convirtiendo el valor booleano en una cadena antes de utilizarlo en el formateo con la función str()\n",
        "x = True\n",
        "print(\"Valor de x: %s\" % str(x))"
      ],
      "metadata": {
        "id": "XF8ZMypC1WG2",
        "outputId": "1cba1fcb-09a7-4ef7-a28d-e270769ca77a",
        "colab": {
          "base_uri": "https://localhost:8080/"
        }
      },
      "execution_count": 12,
      "outputs": [
        {
          "output_type": "stream",
          "name": "stdout",
          "text": [
            "Valor de x: True\n"
          ]
        }
      ]
    },
    {
      "cell_type": "code",
      "source": [
        "#Método .format():\n",
        "nombre_alumno = 'Penélope Camacho'\n",
        "print('Nombre del alumno: {}'.format(nombre_alumno))"
      ],
      "metadata": {
        "id": "iVEyMDxF1zH-",
        "outputId": "2fa92f7e-0971-45db-c3bf-0c9747a8b5c4",
        "colab": {
          "base_uri": "https://localhost:8080/"
        }
      },
      "execution_count": 13,
      "outputs": [
        {
          "output_type": "stream",
          "name": "stdout",
          "text": [
            "Nombre del alumno: Penélope Camacho\n"
          ]
        }
      ]
    },
    {
      "cell_type": "code",
      "source": [
        "nombre_alumno = 'Fabricio Daniel'\n",
        "edad_alumno = 15\n",
        "media_alumno = 9.95\n",
        "print('Nombre del alumno es {}, tiene {} años y su media es {}.' .format(nombre_alumno, edad_alumno, media_alumno))"
      ],
      "metadata": {
        "id": "Err8LADT2Zoe",
        "outputId": "79a16136-3dcc-4e3d-f94c-ee74160a77da",
        "colab": {
          "base_uri": "https://localhost:8080/"
        }
      },
      "execution_count": 14,
      "outputs": [
        {
          "output_type": "stream",
          "name": "stdout",
          "text": [
            "Nombre del alumno es Fabricio Daniel, tiene 15 años y su media es 9.95.\n"
          ]
        }
      ]
    },
    {
      "cell_type": "markdown",
      "source": [
        "Nota que con .format(), no tienes el problema de los decimales de coma flotante. Tampoco tienes este problema con las f-strings."
      ],
      "metadata": {
        "id": "zVNHpfbA2nNY"
      }
    },
    {
      "cell_type": "markdown",
      "source": [
        "**Caracteres especiales**"
      ],
      "metadata": {
        "id": "IA0WNarU2vDP"
      }
    },
    {
      "cell_type": "code",
      "source": [
        "#\\n es el carácter de nueva línea y se usa para saltar una línea en el texto (similar a la función \"Enter\").\n",
        "print(\"Estudiar es un esfuerzo constante,\\nEs como cultivar una planta,\\nNecesitamos dedicación y paciencia,\\nPara ver madurar el fruto.\")"
      ],
      "metadata": {
        "id": "owNTV_Fa2h_u",
        "outputId": "347f4fdc-b8a5-460e-a96e-6b42ab3dc58b",
        "colab": {
          "base_uri": "https://localhost:8080/"
        }
      },
      "execution_count": 15,
      "outputs": [
        {
          "output_type": "stream",
          "name": "stdout",
          "text": [
            "Estudiar es un esfuerzo constante,\n",
            "Es como cultivar una planta,\n",
            "Necesitamos dedicación y paciencia,\n",
            "Para ver madurar el fruto.\n"
          ]
        }
      ]
    },
    {
      "cell_type": "code",
      "source": [
        "#\\t es el carácter de tabulación y se utiliza para agregar un espacio de tabulación en el texto.\n",
        "print('Cantidad\\tCalidad\\n5 muestras\\tAlta\\n3 muestras\\tBaja')"
      ],
      "metadata": {
        "id": "k-5QpkQC23Tu",
        "outputId": "a91df082-42b9-420f-f726-3b13955717b1",
        "colab": {
          "base_uri": "https://localhost:8080/"
        }
      },
      "execution_count": 16,
      "outputs": [
        {
          "output_type": "stream",
          "name": "stdout",
          "text": [
            "Cantidad\tCalidad\n",
            "5 muestras\tAlta\n",
            "3 muestras\tBaja\n"
          ]
        }
      ]
    },
    {
      "cell_type": "code",
      "source": [
        "#\\\\ se usa para imprimir una sola barra invertida.\n",
        "print(\"Ruta del archivo: C:\\\\archivos\\\\documento.csv\")"
      ],
      "metadata": {
        "id": "UR_3oQK0262G",
        "outputId": "bde99fce-0fca-43e4-ea27-8e7892d5cde9",
        "colab": {
          "base_uri": "https://localhost:8080/"
        }
      },
      "execution_count": 17,
      "outputs": [
        {
          "output_type": "stream",
          "name": "stdout",
          "text": [
            "Ruta del archivo: C:\\archivos\\documento.csv\n"
          ]
        }
      ]
    },
    {
      "cell_type": "code",
      "source": [
        "#\\\" se utiliza para imprimir comillas dobles cuando estamos trabajando con una cadena creada con comillas dobles \"\n",
        "print(\"Una vez oí: \\\"Los frutos del conocimiento son los más dulces y duraderos de todos.\\\"\")"
      ],
      "metadata": {
        "id": "jREjvr9u3HwO",
        "outputId": "a460613a-abcf-456b-b8ce-8e65b2bf6729",
        "colab": {
          "base_uri": "https://localhost:8080/"
        }
      },
      "execution_count": 18,
      "outputs": [
        {
          "output_type": "stream",
          "name": "stdout",
          "text": [
            "Una vez oí: \"Los frutos del conocimiento son los más dulces y duraderos de todos.\"\n"
          ]
        }
      ]
    },
    {
      "cell_type": "code",
      "source": [
        "#\\' se utiliza para imprimir comillas simples cuando estamos trabajando con una cadena creada con comillas simples\n",
        "print('Mi profesora una vez dijo: \\'Estudiar es la clave del éxito.\\'')"
      ],
      "metadata": {
        "id": "NNhBb1Nw3N7O",
        "outputId": "09ed3f3a-6724-4fa0-8459-bf8d4f710aff",
        "colab": {
          "base_uri": "https://localhost:8080/"
        }
      },
      "execution_count": 19,
      "outputs": [
        {
          "output_type": "stream",
          "name": "stdout",
          "text": [
            "Mi profesora una vez dijo: 'Estudiar es la clave del éxito.'\n"
          ]
        }
      ]
    },
    {
      "cell_type": "code",
      "source": [],
      "metadata": {
        "id": "6H6HrsU_3Vge"
      },
      "execution_count": null,
      "outputs": []
    }
  ]
}