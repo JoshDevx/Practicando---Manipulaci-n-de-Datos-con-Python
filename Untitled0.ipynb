{
  "nbformat": 4,
  "nbformat_minor": 0,
  "metadata": {
    "colab": {
      "provenance": [],
      "authorship_tag": "ABX9TyM6aAG7b0v+Qqs0UEkMiEYc",
      "include_colab_link": true
    },
    "kernelspec": {
      "name": "python3",
      "display_name": "Python 3"
    },
    "language_info": {
      "name": "python"
    }
  },
  "cells": [
    {
      "cell_type": "markdown",
      "metadata": {
        "id": "view-in-github",
        "colab_type": "text"
      },
      "source": [
        "<a href=\"https://colab.research.google.com/github/JoshDevx/Practicando---Manipulaci-n-de-Datos-con-Python/blob/main/Untitled0.ipynb\" target=\"_parent\"><img src=\"https://colab.research.google.com/assets/colab-badge.svg\" alt=\"Open In Colab\"/></a>"
      ]
    },
    {
      "cell_type": "markdown",
      "source": [
        "**Parcticando Python**"
      ],
      "metadata": {
        "id": "o-GqcNeNzyJ6"
      }
    },
    {
      "cell_type": "code",
      "execution_count": null,
      "metadata": {
        "id": "bdk2QdumzvtG",
        "colab": {
          "base_uri": "https://localhost:8080/"
        },
        "outputId": "c1fe384c-d1b8-435f-d853-f7999fc8d77c"
      },
      "outputs": [
        {
          "output_type": "stream",
          "name": "stdout",
          "text": [
            "Hola mundo!\n"
          ]
        }
      ],
      "source": [
        "#Este es un comentario\n",
        "print('Hola mundo!')"
      ]
    },
    {
      "cell_type": "code",
      "source": [
        "#Variables\n",
        "soy_una_variable = 'Hola'\n",
        "print(soy_una_variable)"
      ],
      "metadata": {
        "colab": {
          "base_uri": "https://localhost:8080/"
        },
        "id": "s5LRYf2wS5DV",
        "outputId": "777af8b8-f23f-47c1-e498-7243b2728d44"
      },
      "execution_count": null,
      "outputs": [
        {
          "output_type": "stream",
          "name": "stdout",
          "text": [
            "Hola\n"
          ]
        }
      ]
    },
    {
      "cell_type": "code",
      "source": [
        "#usamos -> id para saber donde se almacena el valor de la variable\n",
        "print(id(soy_una_variable))"
      ],
      "metadata": {
        "colab": {
          "base_uri": "https://localhost:8080/"
        },
        "id": "tb8HJJ81S90T",
        "outputId": "5d36b3fd-6174-4d3a-cb0c-2f135925cbc2"
      },
      "execution_count": null,
      "outputs": [
        {
          "output_type": "stream",
          "name": "stdout",
          "text": [
            "133826232726000\n"
          ]
        }
      ]
    },
    {
      "cell_type": "code",
      "source": [
        "#Tipos de datos\n",
        "\n",
        "#Tipo int\n",
        "number = 1\n",
        "print(type(number))"
      ],
      "metadata": {
        "colab": {
          "base_uri": "https://localhost:8080/"
        },
        "id": "IIiu6ABYTFzL",
        "outputId": "38e35c16-6621-4638-bdaa-a3f03de2d547"
      },
      "execution_count": null,
      "outputs": [
        {
          "output_type": "stream",
          "name": "stdout",
          "text": [
            "<class 'int'>\n"
          ]
        }
      ]
    },
    {
      "cell_type": "code",
      "source": [
        "#Tipo float\n",
        "number = 1.2\n",
        "print(type(number))\n"
      ],
      "metadata": {
        "colab": {
          "base_uri": "https://localhost:8080/"
        },
        "id": "-V6m9N2JTq6a",
        "outputId": "ca224471-277d-4089-b969-ddacda404c2c"
      },
      "execution_count": null,
      "outputs": [
        {
          "output_type": "stream",
          "name": "stdout",
          "text": [
            "<class 'float'>\n"
          ]
        }
      ]
    },
    {
      "cell_type": "code",
      "source": [
        "#tipo booleano\n",
        "aprobado = True\n",
        "print(type(aprobado))"
      ],
      "metadata": {
        "colab": {
          "base_uri": "https://localhost:8080/"
        },
        "id": "efBhH4MZT0hy",
        "outputId": "f0559799-2791-4620-bc64-5aecf499a1c0"
      },
      "execution_count": null,
      "outputs": [
        {
          "output_type": "stream",
          "name": "stdout",
          "text": [
            "<class 'bool'>\n"
          ]
        }
      ]
    },
    {
      "cell_type": "code",
      "source": [
        "#Algunos metodos de String\n",
        "#Podemos crear Strings cuando atribuimos un dato a una variable entre comillas sencillas (') o comillas dobles (\").\n",
        "\n",
        "#convertir a mayusculas\n",
        "nombre = ' Joshua'\n",
        "print(nombre.upper())\n",
        "\n",
        "#convertir a minusculas\n",
        "apellido = ' Mendoza'\n",
        "print(apellido.lower())"
      ],
      "metadata": {
        "colab": {
          "base_uri": "https://localhost:8080/"
        },
        "id": "k87VLcnmT4bK",
        "outputId": "cf747535-09fb-4502-d531-a188fbdf408f"
      },
      "execution_count": null,
      "outputs": [
        {
          "output_type": "stream",
          "name": "stdout",
          "text": [
            " JOSHUA\n",
            " mendoza\n"
          ]
        }
      ]
    },
    {
      "cell_type": "code",
      "source": [
        "#Eliminar espacios en blanco\n",
        "nombre = ' Joshua '\n",
        "print(nombre.strip())\n",
        "\n",
        "#Reemplazar\n",
        "nombre = ' Joshua '\n",
        "print(nombre.replace('u','o'))"
      ],
      "metadata": {
        "colab": {
          "base_uri": "https://localhost:8080/"
        },
        "id": "2GnT7giSUQGS",
        "outputId": "3eca262d-5f53-4bb3-8962-a3a87f96718b"
      },
      "execution_count": null,
      "outputs": [
        {
          "output_type": "stream",
          "name": "stdout",
          "text": [
            "Joshua\n",
            " Joshoa \n"
          ]
        }
      ]
    },
    {
      "cell_type": "code",
      "source": [
        "#Usamos -> \\t -> para dar una tabulacion y \\n para dar un salto de linea\n",
        "#usamor format -> f -> para agregar nuestras variables en el print\n",
        "print(f'\\tMi Nombre es: {nombre.upper()} \\n\\tMi apellido es: {apellido.upper()}')"
      ],
      "metadata": {
        "colab": {
          "base_uri": "https://localhost:8080/"
        },
        "id": "Be72_IvdUd7i",
        "outputId": "babfcfb6-9656-4a96-9221-823d95e6a086"
      },
      "execution_count": null,
      "outputs": [
        {
          "output_type": "stream",
          "name": "stdout",
          "text": [
            "\tMi Nombre es:  JOSHUA \n",
            "\tMi apellido es:  MENDOZA\n"
          ]
        }
      ]
    },
    {
      "cell_type": "code",
      "source": [
        "#INPUT\n",
        "nombre = input('Ingresa tu nombre: ')\n",
        "print(f'Hola {nombre}')\n"
      ],
      "metadata": {
        "colab": {
          "base_uri": "https://localhost:8080/"
        },
        "id": "56dQqtzdU8rC",
        "outputId": "15932c74-7f49-4e5f-96d6-83cdcf9449dc"
      },
      "execution_count": null,
      "outputs": [
        {
          "output_type": "stream",
          "name": "stdout",
          "text": [
            "Ingresa tu nombre: Joshua\n",
            "Hola Joshua\n"
          ]
        }
      ]
    },
    {
      "cell_type": "markdown",
      "source": [
        "#Valores Unicode\n",
        "[Unicode](https://www.unicode.org/versions/stats/)\n",
        "\n"
      ],
      "metadata": {
        "id": "fZaskDEUyffv"
      }
    },
    {
      "cell_type": "code",
      "source": [
        "#Valores Unicode\n",
        "chr(64)"
      ],
      "metadata": {
        "colab": {
          "base_uri": "https://localhost:8080/",
          "height": 35
        },
        "id": "pdUpTeGUyM1F",
        "outputId": "8f1e5b5c-bfe7-4166-81f5-ba953f40fe9d"
      },
      "execution_count": null,
      "outputs": [
        {
          "output_type": "execute_result",
          "data": {
            "text/plain": [
              "'@'"
            ],
            "application/vnd.google.colaboratory.intrinsic+json": {
              "type": "string"
            }
          },
          "metadata": {},
          "execution_count": 7
        }
      ]
    },
    {
      "cell_type": "code",
      "source": [
        "#Hola\n",
        "chr(72) + chr(111) +  chr(108) + chr(97)"
      ],
      "metadata": {
        "colab": {
          "base_uri": "https://localhost:8080/",
          "height": 35
        },
        "id": "-Zt6Xo_ny8gV",
        "outputId": "d24e65a0-2ec8-49f3-a3dd-cdc2ae003325"
      },
      "execution_count": null,
      "outputs": [
        {
          "output_type": "execute_result",
          "data": {
            "text/plain": [
              "'Hola'"
            ],
            "application/vnd.google.colaboratory.intrinsic+json": {
              "type": "string"
            }
          },
          "metadata": {},
          "execution_count": 6
        }
      ]
    },
    {
      "cell_type": "markdown",
      "source": [
        "#Formatos de\n",
        "\n",
        "```\n",
        "print()\n",
        "```\n",
        "\n"
      ],
      "metadata": {
        "id": "DAdfxI3kzxVO"
      }
    },
    {
      "cell_type": "code",
      "source": [
        "#f-string\n",
        "nombre = \"Ana María\"\n",
        "edad = 17\n",
        "print(f\"El nombre de la alumna es {nombre} y su edad es {edad} años.\")"
      ],
      "metadata": {
        "colab": {
          "base_uri": "https://localhost:8080/"
        },
        "id": "V4Cumjp2zBkF",
        "outputId": "918b82a9-a112-4e9d-bb8e-cdd105427c4a"
      },
      "execution_count": null,
      "outputs": [
        {
          "output_type": "stream",
          "name": "stdout",
          "text": [
            "El nombre de la alumna es Ana María y su edad es 17 años.\n"
          ]
        }
      ]
    },
    {
      "cell_type": "markdown",
      "source": [
        "#Tipo de Variable\tPalabra Clave\n",
        "- Cadena de texto\t```\n",
        "%s\n",
        "```\n",
        "- Entero ```\n",
        "%d\n",
        "```\n",
        "- Punto flotante\t ```\n",
        "%f\n",
        "```\n",
        "- Caractér ```\n",
        "%c\n",
        "```"
      ],
      "metadata": {
        "id": "Gm8UP6bG0EnO"
      }
    },
    {
      "cell_type": "code",
      "source": [
        "#El % debe ir acompañado de una palabra clave para cada tipo de variable que se desee agregar.\n",
        "nombre_alumno = 'Penélope Camacho'\n",
        "print('Nombre del alumno: %s' %(nombre_alumno))"
      ],
      "metadata": {
        "colab": {
          "base_uri": "https://localhost:8080/"
        },
        "id": "B-3uTHurz99t",
        "outputId": "d560e54f-7f44-49ee-d691-f5ef4f1be749"
      },
      "execution_count": null,
      "outputs": [
        {
          "output_type": "stream",
          "name": "stdout",
          "text": [
            "Nombre del alumno: Penélope Camacho\n"
          ]
        }
      ]
    },
    {
      "cell_type": "code",
      "source": [
        "#Si tienes más de una variable, debes ordenarlas según su aparición en el texto y separarlas por comas.\n",
        "nombre_alumno = 'Penélope Camacho'\n",
        "edad_alumno = 11\n",
        "media_alumno = 9.95\n",
        "print('Nombre del alumno es %s, tiene %d años y su media es %f.' %(nombre_alumno, edad_alumno, media_alumno))"
      ],
      "metadata": {
        "colab": {
          "base_uri": "https://localhost:8080/"
        },
        "id": "y2h57J390lKm",
        "outputId": "5dbf2c32-ddc7-4a2f-cea3-b4d4d9a993d4"
      },
      "execution_count": null,
      "outputs": [
        {
          "output_type": "stream",
          "name": "stdout",
          "text": [
            "Nombre del alumno es Penélope Camacho, tiene 11 años y su media es 9.950000.\n"
          ]
        }
      ]
    },
    {
      "cell_type": "code",
      "source": [
        "#sintaxis %.xf, donde x es el número de decimales deseados.\n",
        "print('Nombre del alumno es %s, tiene %d años y su media es %.2f.' %(nombre_alumno, edad_alumno, media_alumno))"
      ],
      "metadata": {
        "colab": {
          "base_uri": "https://localhost:8080/"
        },
        "id": "0cTn11da0oel",
        "outputId": "aa26d653-26a1-4616-858b-ee6d917889c7"
      },
      "execution_count": null,
      "outputs": [
        {
          "output_type": "stream",
          "name": "stdout",
          "text": [
            "Nombre del alumno es Penélope Camacho, tiene 11 años y su media es 9.95.\n"
          ]
        }
      ]
    },
    {
      "cell_type": "code",
      "source": [
        "#% no funcionan directamente con valores booleanos.\n",
        "#Una forma de manejarlo es convirtiendo el valor booleano en una cadena antes de utilizarlo en el formateo con la función str()\n",
        "x = True\n",
        "print(\"Valor de x: %s\" % str(x))"
      ],
      "metadata": {
        "colab": {
          "base_uri": "https://localhost:8080/"
        },
        "id": "XF8ZMypC1WG2",
        "outputId": "1cba1fcb-09a7-4ef7-a28d-e270769ca77a"
      },
      "execution_count": null,
      "outputs": [
        {
          "output_type": "stream",
          "name": "stdout",
          "text": [
            "Valor de x: True\n"
          ]
        }
      ]
    },
    {
      "cell_type": "code",
      "source": [
        "#Método .format():\n",
        "nombre_alumno = 'Penélope Camacho'\n",
        "print('Nombre del alumno: {}'.format(nombre_alumno))"
      ],
      "metadata": {
        "colab": {
          "base_uri": "https://localhost:8080/"
        },
        "id": "iVEyMDxF1zH-",
        "outputId": "2fa92f7e-0971-45db-c3bf-0c9747a8b5c4"
      },
      "execution_count": null,
      "outputs": [
        {
          "output_type": "stream",
          "name": "stdout",
          "text": [
            "Nombre del alumno: Penélope Camacho\n"
          ]
        }
      ]
    },
    {
      "cell_type": "code",
      "source": [
        "nombre_alumno = 'Fabricio Daniel'\n",
        "edad_alumno = 15\n",
        "media_alumno = 9.95\n",
        "print('Nombre del alumno es {}, tiene {} años y su media es {}.' .format(nombre_alumno, edad_alumno, media_alumno))"
      ],
      "metadata": {
        "colab": {
          "base_uri": "https://localhost:8080/"
        },
        "id": "Err8LADT2Zoe",
        "outputId": "79a16136-3dcc-4e3d-f94c-ee74160a77da"
      },
      "execution_count": null,
      "outputs": [
        {
          "output_type": "stream",
          "name": "stdout",
          "text": [
            "Nombre del alumno es Fabricio Daniel, tiene 15 años y su media es 9.95.\n"
          ]
        }
      ]
    },
    {
      "cell_type": "markdown",
      "source": [
        "Nota que con .format(), no tienes el problema de los decimales de coma flotante. Tampoco tienes este problema con las f-strings."
      ],
      "metadata": {
        "id": "zVNHpfbA2nNY"
      }
    },
    {
      "cell_type": "markdown",
      "source": [
        "**Caracteres especiales**"
      ],
      "metadata": {
        "id": "IA0WNarU2vDP"
      }
    },
    {
      "cell_type": "code",
      "source": [
        "#\\n es el carácter de nueva línea y se usa para saltar una línea en el texto (similar a la función \"Enter\").\n",
        "print(\"Estudiar es un esfuerzo constante,\\nEs como cultivar una planta,\\nNecesitamos dedicación y paciencia,\\nPara ver madurar el fruto.\")"
      ],
      "metadata": {
        "colab": {
          "base_uri": "https://localhost:8080/"
        },
        "id": "owNTV_Fa2h_u",
        "outputId": "347f4fdc-b8a5-460e-a96e-6b42ab3dc58b"
      },
      "execution_count": null,
      "outputs": [
        {
          "output_type": "stream",
          "name": "stdout",
          "text": [
            "Estudiar es un esfuerzo constante,\n",
            "Es como cultivar una planta,\n",
            "Necesitamos dedicación y paciencia,\n",
            "Para ver madurar el fruto.\n"
          ]
        }
      ]
    },
    {
      "cell_type": "code",
      "source": [
        "#\\t es el carácter de tabulación y se utiliza para agregar un espacio de tabulación en el texto.\n",
        "print('Cantidad\\tCalidad\\n5 muestras\\tAlta\\n3 muestras\\tBaja')"
      ],
      "metadata": {
        "colab": {
          "base_uri": "https://localhost:8080/"
        },
        "id": "k-5QpkQC23Tu",
        "outputId": "a91df082-42b9-420f-f726-3b13955717b1"
      },
      "execution_count": null,
      "outputs": [
        {
          "output_type": "stream",
          "name": "stdout",
          "text": [
            "Cantidad\tCalidad\n",
            "5 muestras\tAlta\n",
            "3 muestras\tBaja\n"
          ]
        }
      ]
    },
    {
      "cell_type": "code",
      "source": [
        "#\\\\ se usa para imprimir una sola barra invertida.\n",
        "print(\"Ruta del archivo: C:\\\\archivos\\\\documento.csv\")"
      ],
      "metadata": {
        "colab": {
          "base_uri": "https://localhost:8080/"
        },
        "id": "UR_3oQK0262G",
        "outputId": "bde99fce-0fca-43e4-ea27-8e7892d5cde9"
      },
      "execution_count": null,
      "outputs": [
        {
          "output_type": "stream",
          "name": "stdout",
          "text": [
            "Ruta del archivo: C:\\archivos\\documento.csv\n"
          ]
        }
      ]
    },
    {
      "cell_type": "code",
      "source": [
        "#\\\" se utiliza para imprimir comillas dobles cuando estamos trabajando con una cadena creada con comillas dobles \"\n",
        "print(\"Una vez oí: \\\"Los frutos del conocimiento son los más dulces y duraderos de todos.\\\"\")"
      ],
      "metadata": {
        "colab": {
          "base_uri": "https://localhost:8080/"
        },
        "id": "jREjvr9u3HwO",
        "outputId": "a460613a-abcf-456b-b8ce-8e65b2bf6729"
      },
      "execution_count": null,
      "outputs": [
        {
          "output_type": "stream",
          "name": "stdout",
          "text": [
            "Una vez oí: \"Los frutos del conocimiento son los más dulces y duraderos de todos.\"\n"
          ]
        }
      ]
    },
    {
      "cell_type": "code",
      "source": [
        "#\\' se utiliza para imprimir comillas simples cuando estamos trabajando con una cadena creada con comillas simples\n",
        "print('Mi profesora una vez dijo: \\'Estudiar es la clave del éxito.\\'')"
      ],
      "metadata": {
        "colab": {
          "base_uri": "https://localhost:8080/"
        },
        "id": "NNhBb1Nw3N7O",
        "outputId": "09ed3f3a-6724-4fa0-8459-bf8d4f710aff"
      },
      "execution_count": null,
      "outputs": [
        {
          "output_type": "stream",
          "name": "stdout",
          "text": [
            "Mi profesora una vez dijo: 'Estudiar es la clave del éxito.'\n"
          ]
        }
      ]
    },
    {
      "cell_type": "code",
      "source": [
        "#1 - Crea un programa que solicite al usuario que escriba su nombre y luego imprima \"Hola, [nombre].\"\n",
        "name = input('Ingresa tu nombre: ')\n",
        "print(f'Hola {name}')"
      ],
      "metadata": {
        "colab": {
          "base_uri": "https://localhost:8080/"
        },
        "id": "6H6HrsU_3Vge",
        "outputId": "e7bfbbd0-1185-459b-b8c7-4e5875932b7c"
      },
      "execution_count": null,
      "outputs": [
        {
          "output_type": "stream",
          "name": "stdout",
          "text": [
            "Ingresa tu nombre: Joshua\n",
            "Hola Joshua\n"
          ]
        }
      ]
    },
    {
      "cell_type": "code",
      "source": [
        "#2 - Crea un programa que solicite al usuario que escriba su nombre y edad, y luego imprima \"Hola, [nombre], tienes [edad] años.\"\n",
        "name = input('Ingresa tu nombre: ')\n",
        "age = input('Ingresa tu edad: ')\n",
        "print(f'Hola {name}, tienes {age} años.')"
      ],
      "metadata": {
        "colab": {
          "base_uri": "https://localhost:8080/"
        },
        "id": "Fq6U59633-5n",
        "outputId": "728d4b85-9d93-4c50-f1d3-cf3aafdb0164"
      },
      "execution_count": null,
      "outputs": [
        {
          "output_type": "stream",
          "name": "stdout",
          "text": [
            "Ingresa tu nombre: Joshua\n",
            "Ingresa tu edad: 26\n",
            "Hola Joshua, tienes 26 años.\n"
          ]
        }
      ]
    },
    {
      "cell_type": "code",
      "source": [
        "#3 - Crea un programa que solicite al usuario que escriba su nombre, edad y altura en metros, y luego imprima \"Hola, [nombre], tienes [edad] años y mides [altura] metros.\"\n",
        "name = input('Ingresa tu nombre: ')\n",
        "age = input('Ingresa tu edad: ')\n",
        "height = input('Ingresa tu altura en metros: ')\n",
        "print(f'Hola {name}, tienes {age} años y mides {height} metros.')"
      ],
      "metadata": {
        "colab": {
          "base_uri": "https://localhost:8080/"
        },
        "id": "6NeHXBDv4GEn",
        "outputId": "d5ba3192-1c69-457f-86f4-6bd4bf732177"
      },
      "execution_count": null,
      "outputs": [
        {
          "output_type": "stream",
          "name": "stdout",
          "text": [
            "Ingresa tu nombre: JOSHUA\n",
            "Ingresa tu edad: 26\n",
            "Ingresa tu altura en metros: 1.66\n",
            "Hola JOSHUA, tienes 26 años y mides 1.66 metros.\n"
          ]
        }
      ]
    },
    {
      "cell_type": "code",
      "source": [
        "#Crea un programa que solicite dos valores numéricos al usuario y luego imprima la suma de ambos valores.\n",
        "primer_valor = int(input('Ingresa el primer valor: '))\n",
        "segundo_valor = int(input('Ingresa el segundo valor: '))\n",
        "suma = primer_valor + segundo_valor\n",
        "print(f'La suma de los valores es: {suma}')"
      ],
      "metadata": {
        "colab": {
          "base_uri": "https://localhost:8080/"
        },
        "id": "i_xWsBhD4OOP",
        "outputId": "2fea205f-dc63-4b5d-9b0a-e52685e41cdc"
      },
      "execution_count": null,
      "outputs": [
        {
          "output_type": "stream",
          "name": "stdout",
          "text": [
            "Ingresa el primer valor: 2\n",
            "Ingresa el segundo valor: 2\n",
            "La suma de los valores es: 4\n"
          ]
        }
      ]
    },
    {
      "cell_type": "code",
      "source": [
        "#5 - Crea un programa que solicite tres valores numéricos al usuario y luego imprima la suma de los tres valores.\n",
        "primer_valor = int(input('Ingresa el primer valor: '))\n",
        "segundo_valor = int(input('Ingresa el segundo valor: '))\n",
        "tercer_valor = int(input('Ingresa el tercer valor: '))\n",
        "suma = primer_valor + segundo_valor + tercer_valor\n",
        "print(f'La suma de los valores es: {suma}')"
      ],
      "metadata": {
        "colab": {
          "base_uri": "https://localhost:8080/"
        },
        "id": "uuE9KaPF4mf_",
        "outputId": "5d983160-5316-4b40-8d16-35e13f42dd55"
      },
      "execution_count": null,
      "outputs": [
        {
          "output_type": "stream",
          "name": "stdout",
          "text": [
            "Ingresa el primer valor: 5\n",
            "Ingresa el segundo valor: 89\n",
            "Ingresa el tercer valor: 56\n",
            "La suma de los valores es: 150\n"
          ]
        }
      ]
    },
    {
      "cell_type": "code",
      "source": [
        "#6 - Crea un programa que solicite dos valores numéricos al usuario y luego imprima la resta del primero menos el segundo valor.\n",
        "primer_valor = int(input('Ingresa el primer valor: '))\n",
        "segundo_valor = int(input('Ingresa el segundo valor: '))\n",
        "resta = primer_valor - segundo_valor\n",
        "print(f'La resta de los valores es: {resta}')"
      ],
      "metadata": {
        "colab": {
          "base_uri": "https://localhost:8080/"
        },
        "id": "W61ElvPZ4sIf",
        "outputId": "df75a2d4-4202-4bf7-d36b-e0b1cdead272"
      },
      "execution_count": null,
      "outputs": [
        {
          "output_type": "stream",
          "name": "stdout",
          "text": [
            "Ingresa el primer valor: 20\n",
            "Ingresa el segundo valor: 15\n",
            "La resta de los valores es: 5\n"
          ]
        }
      ]
    },
    {
      "cell_type": "code",
      "source": [
        "#7 - Crea un programa que solicite dos valores numéricos al usuario y luego imprima la multiplicación de los dos valores.\n",
        "primer_valor = int(input('Ingresa el primer valor: '))\n",
        "segundo_valor = int(input('Ingresa el segundo valor: '))\n",
        "multiplicacion = primer_valor * segundo_valor\n",
        "print(f'La multiplicacion de los valores es: {multiplicacion}')"
      ],
      "metadata": {
        "colab": {
          "base_uri": "https://localhost:8080/"
        },
        "id": "f_Xcy8oE5GSw",
        "outputId": "d4b8a4c8-d171-4af8-db8b-303f52b5a776"
      },
      "execution_count": null,
      "outputs": [
        {
          "output_type": "stream",
          "name": "stdout",
          "text": [
            "Ingresa el primer valor: 5\n",
            "Ingresa el segundo valor: 4\n",
            "La multiplicacion de los valores es: 20\n"
          ]
        }
      ]
    },
    {
      "cell_type": "code",
      "source": [
        "#8 - Crea un programa que solicite dos valores numéricos, un numerador y un denominador, y realice la división entre los dos valores. Asegúrate de que el valor del denominador no sea igual a 0.\n",
        "numerador = int(input('Ingresa el numerador: '))\n",
        "denominador = int(input('Ingresa el denominador: '))\n",
        "division = numerador / denominador\n",
        "print(f'La division de los valores es: {division}')"
      ],
      "metadata": {
        "colab": {
          "base_uri": "https://localhost:8080/"
        },
        "id": "riW8HaGS5KSn",
        "outputId": "8ccca0c1-ecbc-46ae-de9a-c2e569201d22"
      },
      "execution_count": null,
      "outputs": [
        {
          "output_type": "stream",
          "name": "stdout",
          "text": [
            "Ingresa el numerador: 12\n",
            "Ingresa el denominador: 2\n",
            "La division de los valores es: 6.0\n"
          ]
        }
      ]
    },
    {
      "cell_type": "code",
      "source": [
        "#Crea un programa que solicite dos valores numéricos, un numerador y un denominador, y devuelva el resto de la división entre los dos valores. Asegúrate de que el valor del denominador no sea igual a 0.\n",
        "numerador = int(input('Ingresa el numerador: '))\n",
        "denominador = int(input('Ingresa el denominador: '))\n",
        "resto = numerador % denominador\n",
        "print(f'El resto de la division de los valores es: {resto}')"
      ],
      "metadata": {
        "colab": {
          "base_uri": "https://localhost:8080/"
        },
        "id": "5s_2uEoW5RpX",
        "outputId": "d360f355-f0db-423b-f52b-f0deab18051b"
      },
      "execution_count": null,
      "outputs": [
        {
          "output_type": "stream",
          "name": "stdout",
          "text": [
            "Ingresa el numerador: 45\n",
            "Ingresa el denominador: 20\n",
            "El resto de la division de los valores es: 5\n"
          ]
        }
      ]
    },
    {
      "cell_type": "code",
      "source": [
        "#12 - Crea un código que solicite las 3 notas de un estudiante e imprima el promedio de las notas.\n",
        "nota1 = int(input('Ingresa la primera nota: '))\n",
        "nota2 = int(input('Ingresa la segunda nota: '))\n",
        "nota3 = int(input('Ingresa la tercera nota: '))\n",
        "promedio = (nota1 + nota2 + nota3) / 3\n",
        "print(f'El promedio de las notas es: {round(promedio,2)}')"
      ],
      "metadata": {
        "colab": {
          "base_uri": "https://localhost:8080/"
        },
        "id": "DJQVK1hX5b-f",
        "outputId": "bd81f85d-b3fb-4648-e823-194c6b979359"
      },
      "execution_count": null,
      "outputs": [
        {
          "output_type": "stream",
          "name": "stdout",
          "text": [
            "Ingresa la primera nota: 20\n",
            "Ingresa la segunda nota: 18\n",
            "Ingresa la tercera nota: 10\n",
            "El promedio de las notas es: 16.0\n"
          ]
        }
      ]
    },
    {
      "cell_type": "code",
      "source": [
        "#13 - Crea un código que calcule e imprima el promedio ponderado de los números 5, 12, 20 y 15 con pesos respectivamente iguales a 1, 2, 3 y 4.\n",
        "promedio_ponderado = (5 * 1 + 12 * 2 + 20 * 3 + 15 * 4) / (1 + 2 + 3 + 4)\n",
        "print(f'El promedio ponderado de los numeros es: {round(promedio_ponderado,2)}')"
      ],
      "metadata": {
        "colab": {
          "base_uri": "https://localhost:8080/"
        },
        "id": "2cAST5-i5lrv",
        "outputId": "5a926c6e-42b4-4158-9649-9d6f6a23a95a"
      },
      "execution_count": null,
      "outputs": [
        {
          "output_type": "stream",
          "name": "stdout",
          "text": [
            "El promedio ponderado de los numeros es: 14.9\n"
          ]
        }
      ]
    },
    {
      "cell_type": "markdown",
      "source": [
        "#Textos"
      ],
      "metadata": {
        "id": "hslpAH1sKKJH"
      }
    },
    {
      "cell_type": "code",
      "source": [
        "frase = 'Hola desde Google Colab'"
      ],
      "metadata": {
        "id": "_xQp355Y5_XY"
      },
      "execution_count": null,
      "outputs": []
    },
    {
      "cell_type": "code",
      "source": [
        "print(frase)"
      ],
      "metadata": {
        "colab": {
          "base_uri": "https://localhost:8080/"
        },
        "id": "8oqrpmQeKSgt",
        "outputId": "fcc2f87d-8d94-44c3-9688-85533978e821"
      },
      "execution_count": null,
      "outputs": [
        {
          "output_type": "stream",
          "name": "stdout",
          "text": [
            "Hola desde Google Colab\n"
          ]
        }
      ]
    },
    {
      "cell_type": "code",
      "source": [
        "frase_1 = input('Ingresa una frase: ')\n",
        "print(frase_1)"
      ],
      "metadata": {
        "colab": {
          "base_uri": "https://localhost:8080/"
        },
        "id": "LSwk6s1LKUKN",
        "outputId": "566e2f60-ae82-422a-815d-8dddc0c726e2"
      },
      "execution_count": null,
      "outputs": [
        {
          "output_type": "stream",
          "name": "stdout",
          "text": [
            "Ingresa una frase: La life es la Life\n",
            "La life es la Life\n"
          ]
        }
      ]
    },
    {
      "cell_type": "code",
      "source": [
        "frase_2 = input('ingresa una frase: ')\n",
        "print(frase_2.upper())"
      ],
      "metadata": {
        "colab": {
          "base_uri": "https://localhost:8080/"
        },
        "id": "o7kDnPfbKbz0",
        "outputId": "ab6e5a49-8bee-4f10-9197-0e7fe07c9e50"
      },
      "execution_count": null,
      "outputs": [
        {
          "output_type": "stream",
          "name": "stdout",
          "text": [
            "ingresa una frase: Hola mundillo\n",
            "HOLA MUNDILLO\n"
          ]
        }
      ]
    },
    {
      "cell_type": "code",
      "source": [
        "frase_3 = input('ingresa una frase: ')\n",
        "print(frase_3.lower())"
      ],
      "metadata": {
        "colab": {
          "base_uri": "https://localhost:8080/"
        },
        "id": "lghE6O2EKnON",
        "outputId": "daadcc71-d454-43e7-c995-d358a24fba3c"
      },
      "execution_count": null,
      "outputs": [
        {
          "output_type": "stream",
          "name": "stdout",
          "text": [
            "ingresa una frase: hOLA XD\n",
            "hola xd\n"
          ]
        }
      ]
    },
    {
      "cell_type": "code",
      "source": [
        "frase_4 = input('ingresa una frase: ')\n",
        "print(frase_4.strip())"
      ],
      "metadata": {
        "colab": {
          "base_uri": "https://localhost:8080/"
        },
        "id": "36sw_6sPYYPq",
        "outputId": "d061b9b0-a1ad-40ef-fe54-21ac8aec0f01"
      },
      "execution_count": null,
      "outputs": [
        {
          "output_type": "stream",
          "name": "stdout",
          "text": [
            "ingresa una frase:  Hola Mundo \n",
            "Hola Mundo\n"
          ]
        }
      ]
    },
    {
      "cell_type": "code",
      "source": [
        "frase_5  = input('ingresa una frase: ')\n",
        "print(frase_5.replace('e','f'))"
      ],
      "metadata": {
        "colab": {
          "base_uri": "https://localhost:8080/"
        },
        "id": "rDoDrRxFYr1y",
        "outputId": "66483c90-3657-461f-c947-3af6b2ffde83"
      },
      "execution_count": null,
      "outputs": [
        {
          "output_type": "stream",
          "name": "stdout",
          "text": [
            "ingresa una frase: Eres el mejor\n",
            "Erfs fl mfjor\n"
          ]
        }
      ]
    },
    {
      "cell_type": "code",
      "source": [
        "frase_6 = input('ingresa una frase: ')\n",
        "print(frase_6.replace('a', '@'))"
      ],
      "metadata": {
        "colab": {
          "base_uri": "https://localhost:8080/"
        },
        "id": "aF9YIvq7Y0rb",
        "outputId": "e328aafd-95ed-44c2-f6e4-3ff3e1b7bdc6"
      },
      "execution_count": null,
      "outputs": [
        {
          "output_type": "stream",
          "name": "stdout",
          "text": [
            "ingresa una frase: Hola a Todos y Todas\n",
            "Hol@ @ Todos y Tod@s\n"
          ]
        }
      ]
    },
    {
      "cell_type": "code",
      "source": [
        "frase_7 = input('ingresa una frase: ')\n",
        "print(frase_7.replace('s','$'))"
      ],
      "metadata": {
        "colab": {
          "base_uri": "https://localhost:8080/"
        },
        "id": "QdYnXeD-ZWMD",
        "outputId": "19fde983-5b1f-4cfc-a258-e78d40538981"
      },
      "execution_count": null,
      "outputs": [
        {
          "output_type": "stream",
          "name": "stdout",
          "text": [
            "ingresa una frase: Si o si lo vas a lograr\n",
            "Si o $i lo va$ a lograr\n"
          ]
        }
      ]
    },
    {
      "cell_type": "code",
      "source": [
        "#Operador and\n",
        "#La tabla de verdad del operador and muestra que la salida solo es Verdadero (True) si ambos operandos son Verdaderos. De lo contrario, devuelve Falso (False), como se muestra en la siguiente tabla:\n",
        "#operando_1\t|operando_2\t |operando_1 and operando_2\n",
        "#False\t    |False\t     |False\n",
        "#False\t    |True\t       |False\n",
        "#True\t      |False\t     |False\n",
        "#True\t      |True\t       |True"
      ],
      "metadata": {
        "id": "Rc46FZOSZgTD"
      },
      "execution_count": null,
      "outputs": []
    },
    {
      "cell_type": "code",
      "source": [
        "#Operador or\n",
        "#La tabla de verdad del operador or muestra que la salida solo es Falso (False) si ambos operandos son Falsos; de lo contrario, devuelve Verdadero (True)\n",
        "#operando_1\t|operando_2\t |operando_1 and operando_2\n",
        "#False\t    |False\t     |False\n",
        "#False\t    |True\t       |True\n",
        "#True\t      |False\t     |True\n",
        "#True\t      |True\t       |True"
      ],
      "metadata": {
        "id": "1UxCpwoJiK8T"
      },
      "execution_count": null,
      "outputs": []
    },
    {
      "cell_type": "code",
      "source": [
        "#Operador not\n",
        "#El operador not tiene una tabla de verdad más simple, ya que simplemente invierte el valor del operando. Si el operando es Verdadero, devuelve Falso; si es Falso, devuelve Verdadero.\n",
        "#operando \t|not operando\n",
        "#False\t    |False"
      ],
      "metadata": {
        "id": "ybxBwMoOiK_c"
      },
      "execution_count": null,
      "outputs": []
    },
    {
      "cell_type": "code",
      "source": [
        "#\n",
        "num_1 = int(input('Ingresa el primer numero: '))\n",
        "num_2 = int(input('Ingresa el segundo numero: '))\n",
        "if num_1 > num_2:\n",
        "  print(f'El numero {num_1} es mayor')\n",
        "else:\n",
        "  print(f'El numero {num_2} es mayor')"
      ],
      "metadata": {
        "id": "FVindhJ-iLJr",
        "outputId": "93d42db1-28bf-40cb-859f-6fb53441a7d7",
        "colab": {
          "base_uri": "https://localhost:8080/"
        }
      },
      "execution_count": null,
      "outputs": [
        {
          "output_type": "stream",
          "name": "stdout",
          "text": [
            "Ingresa el primer numero: 10\n",
            "Ingresa el segundo numero: 25\n",
            "El numero 25 es mayor\n"
          ]
        }
      ]
    },
    {
      "cell_type": "code",
      "source": [
        "procentaje_crecimiento = int(input('Ingresa el porcentaje de crecimiento de la empresa: '))\n",
        "\n",
        "if procentaje_crecimiento > 0:\n",
        "  print('La empresa ha crecido')\n",
        "else:\n",
        "  print('La empresa ha decrecido')"
      ],
      "metadata": {
        "id": "ydt1ZCqHi2Y0",
        "outputId": "dcb1b740-fc7f-434c-abe9-fbee7d751138",
        "colab": {
          "base_uri": "https://localhost:8080/"
        }
      },
      "execution_count": null,
      "outputs": [
        {
          "output_type": "stream",
          "name": "stdout",
          "text": [
            "Ingresa el porcentaje de crecimiento de la empresa: -15\n",
            "La empresa ha decrecido\n"
          ]
        }
      ]
    },
    {
      "cell_type": "code",
      "source": [
        "lista_vocales = 'a,e,i,o,u'\n",
        "letra = input('Ingresa una letra: ')\n",
        "letra_minus = letra.lower()\n",
        "if letra_minus in lista_vocales:\n",
        "  print(f'La letra {letra_minus} es una vocal')\n",
        "else:\n",
        "  print(f'La letra {letra_minus} es una consonante')"
      ],
      "metadata": {
        "id": "VU2GmVIHjxxt",
        "outputId": "fb209aec-294a-42f1-ab5e-474fd59181f6",
        "colab": {
          "base_uri": "https://localhost:8080/"
        }
      },
      "execution_count": null,
      "outputs": [
        {
          "output_type": "stream",
          "name": "stdout",
          "text": [
            "Ingresa una letra: R\n",
            "La letra r es una consonante\n"
          ]
        }
      ]
    },
    {
      "cell_type": "code",
      "source": [
        "historial_precios_autos = [50.250, 59.36, 67.500, 44.45]\n",
        "precio_alto = max(historial_precios_autos)\n",
        "precio_menor = min(historial_precios_autos)\n",
        "print(f'El precio mas alto es: {precio_alto}')\n",
        "print(f'El precio mas bajo es: {precio_menor}')"
      ],
      "metadata": {
        "id": "KUI09f8ykyQU",
        "outputId": "f6738015-ef14-4e78-f66e-08b70d06acfa",
        "colab": {
          "base_uri": "https://localhost:8080/"
        }
      },
      "execution_count": null,
      "outputs": [
        {
          "output_type": "stream",
          "name": "stdout",
          "text": [
            "El precio mas alto es: 67.5\n",
            "El precio mas bajo es: 44.45\n"
          ]
        }
      ]
    },
    {
      "cell_type": "code",
      "source": [
        "#Escribe un programa que pregunte sobre el precio de tres productos e indique cuál es el producto más barato para comprar.\n",
        "precios = []\n",
        "for i in range(1,4):\n",
        "  precio = int(input(f'Ingresa el precio del valor {i}:'))\n",
        "  precios.append(precio)\n",
        "precio_menor = min(precios)\n",
        "print(f'El precio mas bajo es: {precio_menor}')\n"
      ],
      "metadata": {
        "id": "1p_uqESkpC8N",
        "outputId": "5d41ed76-d049-4678-9ac6-7ad40c8c0984",
        "colab": {
          "base_uri": "https://localhost:8080/"
        }
      },
      "execution_count": null,
      "outputs": [
        {
          "output_type": "stream",
          "name": "stdout",
          "text": [
            "Ingresa el precio del valor 1:51\n",
            "Ingresa el precio del valor 2:58\n",
            "Ingresa el precio del valor 3:20\n",
            "El precio mas bajo es: 20\n"
          ]
        }
      ]
    },
    {
      "cell_type": "code",
      "source": [
        "num = []\n",
        "for i in range(1,4):\n",
        "  num.append(int(input(f'Ingresa el numero {i}:')))\n",
        "num.sort(reverse=True)\n",
        "print(num)"
      ],
      "metadata": {
        "id": "fc9kzwkanSbW",
        "outputId": "59380bb8-ae4d-40b3-93ab-479c65750a83",
        "colab": {
          "base_uri": "https://localhost:8080/"
        }
      },
      "execution_count": 10,
      "outputs": [
        {
          "output_type": "stream",
          "name": "stdout",
          "text": [
            "Ingresa el numero 1:2\n",
            "Ingresa el numero 2:12\n",
            "Ingresa el numero 3:45\n",
            "[45, 12, 2]\n"
          ]
        }
      ]
    },
    {
      "cell_type": "code",
      "source": [
        "turno_estudio = input('Ingresa tu turno de estudio: ')\n",
        "turno = turno_estudio.lower()\n",
        "if turno == 'mañana':\n",
        "  print('Buenos dias')\n",
        "elif turno == 'tarde':\n",
        "  print('Buenas tardes')\n",
        "elif turno == 'noche':\n",
        "  print('Buenas noches')\n",
        "else:\n",
        "  print('Valor incorrecto')"
      ],
      "metadata": {
        "id": "uqSHDMbBpMCV",
        "colab": {
          "base_uri": "https://localhost:8080/"
        },
        "outputId": "1e9df59a-6cd6-4767-a79b-7bb06c323b4a"
      },
      "execution_count": 11,
      "outputs": [
        {
          "output_type": "stream",
          "name": "stdout",
          "text": [
            "Ingresa tu turno de estudio: mañana\n",
            "Buenos dias\n"
          ]
        }
      ]
    },
    {
      "cell_type": "code",
      "source": [
        "number = int(input('Ingresa un numero: '))\n",
        "if number % 2 == 0:\n",
        "  print(f'El numero {number} es par')\n",
        "else:\n",
        "  print(f'El numero {number} es impar')"
      ],
      "metadata": {
        "colab": {
          "base_uri": "https://localhost:8080/"
        },
        "id": "BfWNjSTqUVPm",
        "outputId": "79c1e255-595f-46e6-b2c0-257937b72f03"
      },
      "execution_count": 12,
      "outputs": [
        {
          "output_type": "stream",
          "name": "stdout",
          "text": [
            "Ingresa un numero: 25\n",
            "El numero 25 es impar\n"
          ]
        }
      ]
    },
    {
      "cell_type": "code",
      "source": [
        "number = float(input('Ingresa un numero: '))\n",
        "if number == int(number):\n",
        "    print(f'El numero {round(number)} es entero')\n",
        "else:\n",
        "    print(f'El numero {number} es decimal')"
      ],
      "metadata": {
        "colab": {
          "base_uri": "https://localhost:8080/"
        },
        "id": "O8kfgn6KUecM",
        "outputId": "eb731dc9-6faf-421d-d359-5c3911df3465"
      },
      "execution_count": 23,
      "outputs": [
        {
          "output_type": "stream",
          "name": "stdout",
          "text": [
            "Ingresa un numero: 2\n",
            "El numero 2 es entero\n"
          ]
        }
      ]
    },
    {
      "cell_type": "code",
      "source": [],
      "metadata": {
        "id": "Ewd4AbSUWvJ1"
      },
      "execution_count": null,
      "outputs": []
    }
  ]
}