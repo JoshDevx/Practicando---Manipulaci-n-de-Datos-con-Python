{
  "nbformat": 4,
  "nbformat_minor": 0,
  "metadata": {
    "colab": {
      "provenance": [],
      "authorship_tag": "ABX9TyNICh1ke02W9d6UpVX/rGt/",
      "include_colab_link": true
    },
    "kernelspec": {
      "name": "python3",
      "display_name": "Python 3"
    },
    "language_info": {
      "name": "python"
    }
  },
  "cells": [
    {
      "cell_type": "markdown",
      "metadata": {
        "id": "view-in-github",
        "colab_type": "text"
      },
      "source": [
        "<a href=\"https://colab.research.google.com/github/JoshDevx/Practicando---Manipulaci-n-de-Datos-con-Python/blob/main/Untitled0.ipynb\" target=\"_parent\"><img src=\"https://colab.research.google.com/assets/colab-badge.svg\" alt=\"Open In Colab\"/></a>"
      ]
    },
    {
      "cell_type": "markdown",
      "source": [
        "**Parcticando Python**"
      ],
      "metadata": {
        "id": "o-GqcNeNzyJ6"
      }
    },
    {
      "cell_type": "code",
      "execution_count": 1,
      "metadata": {
        "id": "bdk2QdumzvtG",
        "colab": {
          "base_uri": "https://localhost:8080/"
        },
        "outputId": "c1fe384c-d1b8-435f-d853-f7999fc8d77c"
      },
      "outputs": [
        {
          "output_type": "stream",
          "name": "stdout",
          "text": [
            "Hola mundo!\n"
          ]
        }
      ],
      "source": [
        "#Este es un comentario\n",
        "print('Hola mundo!')"
      ]
    },
    {
      "cell_type": "code",
      "source": [
        "#Variables\n",
        "soy_una_variable = 'Hola'\n",
        "print(soy_una_variable)"
      ],
      "metadata": {
        "colab": {
          "base_uri": "https://localhost:8080/"
        },
        "id": "s5LRYf2wS5DV",
        "outputId": "777af8b8-f23f-47c1-e498-7243b2728d44"
      },
      "execution_count": 2,
      "outputs": [
        {
          "output_type": "stream",
          "name": "stdout",
          "text": [
            "Hola\n"
          ]
        }
      ]
    },
    {
      "cell_type": "code",
      "source": [
        "#usamos -> id para saber donde se almacena el valor de la variable\n",
        "print(id(soy_una_variable))"
      ],
      "metadata": {
        "colab": {
          "base_uri": "https://localhost:8080/"
        },
        "id": "tb8HJJ81S90T",
        "outputId": "5d36b3fd-6174-4d3a-cb0c-2f135925cbc2"
      },
      "execution_count": 3,
      "outputs": [
        {
          "output_type": "stream",
          "name": "stdout",
          "text": [
            "133826232726000\n"
          ]
        }
      ]
    },
    {
      "cell_type": "code",
      "source": [
        "#Tipos de datos\n",
        "\n",
        "#Tipo int\n",
        "number = 1\n",
        "print(type(number))"
      ],
      "metadata": {
        "colab": {
          "base_uri": "https://localhost:8080/"
        },
        "id": "IIiu6ABYTFzL",
        "outputId": "38e35c16-6621-4638-bdaa-a3f03de2d547"
      },
      "execution_count": 5,
      "outputs": [
        {
          "output_type": "stream",
          "name": "stdout",
          "text": [
            "<class 'int'>\n"
          ]
        }
      ]
    },
    {
      "cell_type": "code",
      "source": [
        "#Tipo float\n",
        "number = 1.2\n",
        "print(type(number))\n"
      ],
      "metadata": {
        "colab": {
          "base_uri": "https://localhost:8080/"
        },
        "id": "-V6m9N2JTq6a",
        "outputId": "ca224471-277d-4089-b969-ddacda404c2c"
      },
      "execution_count": 6,
      "outputs": [
        {
          "output_type": "stream",
          "name": "stdout",
          "text": [
            "<class 'float'>\n"
          ]
        }
      ]
    },
    {
      "cell_type": "code",
      "source": [
        "#tipo booleano\n",
        "aprobado = True\n",
        "print(type(aprobado))"
      ],
      "metadata": {
        "colab": {
          "base_uri": "https://localhost:8080/"
        },
        "id": "efBhH4MZT0hy",
        "outputId": "f0559799-2791-4620-bc64-5aecf499a1c0"
      },
      "execution_count": 7,
      "outputs": [
        {
          "output_type": "stream",
          "name": "stdout",
          "text": [
            "<class 'bool'>\n"
          ]
        }
      ]
    },
    {
      "cell_type": "code",
      "source": [
        "#Algunos metodos de String\n",
        "#Podemos crear Strings cuando atribuimos un dato a una variable entre comillas sencillas (') o comillas dobles (\").\n",
        "\n",
        "#convertir a mayusculas\n",
        "nombre = ' Joshua'\n",
        "print(nombre.upper())\n",
        "\n",
        "#convertir a minusculas\n",
        "apellido = ' Mendoza'\n",
        "print(apellido.lower())"
      ],
      "metadata": {
        "colab": {
          "base_uri": "https://localhost:8080/"
        },
        "id": "k87VLcnmT4bK",
        "outputId": "cf747535-09fb-4502-d531-a188fbdf408f"
      },
      "execution_count": 11,
      "outputs": [
        {
          "output_type": "stream",
          "name": "stdout",
          "text": [
            " JOSHUA\n",
            " mendoza\n"
          ]
        }
      ]
    },
    {
      "cell_type": "code",
      "source": [
        "#Eliminar espacios en blanco\n",
        "nombre = ' Joshua '\n",
        "print(nombre.strip())\n",
        "\n",
        "#Reemplazar\n",
        "nombre = ' Joshua '\n",
        "print(nombre.replace('u','o'))"
      ],
      "metadata": {
        "colab": {
          "base_uri": "https://localhost:8080/"
        },
        "id": "2GnT7giSUQGS",
        "outputId": "3eca262d-5f53-4bb3-8962-a3a87f96718b"
      },
      "execution_count": 10,
      "outputs": [
        {
          "output_type": "stream",
          "name": "stdout",
          "text": [
            "Joshua\n",
            " Joshoa \n"
          ]
        }
      ]
    },
    {
      "cell_type": "code",
      "source": [
        "#Usamos -> \\t -> para dar una tabulacion y \\n para dar un salto de linea\n",
        "#usamor format -> f -> para agregar nuestras variables en el print\n",
        "print(f'\\tMi Nombre es: {nombre.upper()} \\n\\tMi apellido es: {apellido.upper()}')"
      ],
      "metadata": {
        "colab": {
          "base_uri": "https://localhost:8080/"
        },
        "id": "Be72_IvdUd7i",
        "outputId": "babfcfb6-9656-4a96-9221-823d95e6a086"
      },
      "execution_count": 13,
      "outputs": [
        {
          "output_type": "stream",
          "name": "stdout",
          "text": [
            "\tMi Nombre es:  JOSHUA \n",
            "\tMi apellido es:  MENDOZA\n"
          ]
        }
      ]
    },
    {
      "cell_type": "code",
      "source": [
        "#INPUT\n",
        "nombre = input('Ingresa tu nombre: ')\n",
        "print(f'Hola {nombre}')\n"
      ],
      "metadata": {
        "colab": {
          "base_uri": "https://localhost:8080/"
        },
        "id": "56dQqtzdU8rC",
        "outputId": "15932c74-7f49-4e5f-96d6-83cdcf9449dc"
      },
      "execution_count": 2,
      "outputs": [
        {
          "output_type": "stream",
          "name": "stdout",
          "text": [
            "Ingresa tu nombre: Joshua\n",
            "Hola Joshua\n"
          ]
        }
      ]
    },
    {
      "cell_type": "markdown",
      "source": [
        "#Valores Unicode\n",
        "[Unicode](https://www.unicode.org/versions/stats/)\n",
        "\n"
      ],
      "metadata": {
        "id": "fZaskDEUyffv"
      }
    },
    {
      "cell_type": "code",
      "source": [
        "#Valores Unicode\n",
        "chr(64)"
      ],
      "metadata": {
        "id": "pdUpTeGUyM1F",
        "outputId": "8f1e5b5c-bfe7-4166-81f5-ba953f40fe9d",
        "colab": {
          "base_uri": "https://localhost:8080/",
          "height": 35
        }
      },
      "execution_count": 7,
      "outputs": [
        {
          "output_type": "execute_result",
          "data": {
            "text/plain": [
              "'@'"
            ],
            "application/vnd.google.colaboratory.intrinsic+json": {
              "type": "string"
            }
          },
          "metadata": {},
          "execution_count": 7
        }
      ]
    },
    {
      "cell_type": "code",
      "source": [
        "#Hola\n",
        "chr(72) + chr(111) +  chr(108) + chr(97)"
      ],
      "metadata": {
        "id": "-Zt6Xo_ny8gV",
        "outputId": "d24e65a0-2ec8-49f3-a3dd-cdc2ae003325",
        "colab": {
          "base_uri": "https://localhost:8080/",
          "height": 35
        }
      },
      "execution_count": 6,
      "outputs": [
        {
          "output_type": "execute_result",
          "data": {
            "text/plain": [
              "'Hola'"
            ],
            "application/vnd.google.colaboratory.intrinsic+json": {
              "type": "string"
            }
          },
          "metadata": {},
          "execution_count": 6
        }
      ]
    },
    {
      "cell_type": "code",
      "source": [],
      "metadata": {
        "id": "V4Cumjp2zBkF"
      },
      "execution_count": null,
      "outputs": []
    }
  ]
}