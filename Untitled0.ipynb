{
  "nbformat": 4,
  "nbformat_minor": 0,
  "metadata": {
    "colab": {
      "provenance": [],
      "authorship_tag": "ABX9TyPPJhKurtoGx9phYXYTUJrL",
      "include_colab_link": true
    },
    "kernelspec": {
      "name": "python3",
      "display_name": "Python 3"
    },
    "language_info": {
      "name": "python"
    }
  },
  "cells": [
    {
      "cell_type": "markdown",
      "metadata": {
        "id": "view-in-github",
        "colab_type": "text"
      },
      "source": [
        "<a href=\"https://colab.research.google.com/github/JoshDevx/Practicando---Manipulaci-n-de-Datos-con-Python/blob/main/Untitled0.ipynb\" target=\"_parent\"><img src=\"https://colab.research.google.com/assets/colab-badge.svg\" alt=\"Open In Colab\"/></a>"
      ]
    },
    {
      "cell_type": "markdown",
      "source": [
        "**Parcticando Python**"
      ],
      "metadata": {
        "id": "o-GqcNeNzyJ6"
      }
    },
    {
      "cell_type": "code",
      "execution_count": null,
      "metadata": {
        "id": "bdk2QdumzvtG",
        "colab": {
          "base_uri": "https://localhost:8080/"
        },
        "outputId": "c1fe384c-d1b8-435f-d853-f7999fc8d77c"
      },
      "outputs": [
        {
          "output_type": "stream",
          "name": "stdout",
          "text": [
            "Hola mundo!\n"
          ]
        }
      ],
      "source": [
        "#Este es un comentario\n",
        "print('Hola mundo!')"
      ]
    },
    {
      "cell_type": "code",
      "source": [
        "#Variables\n",
        "soy_una_variable = 'Hola'\n",
        "print(soy_una_variable)"
      ],
      "metadata": {
        "colab": {
          "base_uri": "https://localhost:8080/"
        },
        "id": "s5LRYf2wS5DV",
        "outputId": "777af8b8-f23f-47c1-e498-7243b2728d44"
      },
      "execution_count": null,
      "outputs": [
        {
          "output_type": "stream",
          "name": "stdout",
          "text": [
            "Hola\n"
          ]
        }
      ]
    },
    {
      "cell_type": "code",
      "source": [
        "#usamos -> id para saber donde se almacena el valor de la variable\n",
        "print(id(soy_una_variable))"
      ],
      "metadata": {
        "colab": {
          "base_uri": "https://localhost:8080/"
        },
        "id": "tb8HJJ81S90T",
        "outputId": "5d36b3fd-6174-4d3a-cb0c-2f135925cbc2"
      },
      "execution_count": null,
      "outputs": [
        {
          "output_type": "stream",
          "name": "stdout",
          "text": [
            "133826232726000\n"
          ]
        }
      ]
    },
    {
      "cell_type": "code",
      "source": [
        "#Tipos de datos\n",
        "\n",
        "#Tipo int\n",
        "number = 1\n",
        "print(type(number))"
      ],
      "metadata": {
        "colab": {
          "base_uri": "https://localhost:8080/"
        },
        "id": "IIiu6ABYTFzL",
        "outputId": "38e35c16-6621-4638-bdaa-a3f03de2d547"
      },
      "execution_count": null,
      "outputs": [
        {
          "output_type": "stream",
          "name": "stdout",
          "text": [
            "<class 'int'>\n"
          ]
        }
      ]
    },
    {
      "cell_type": "code",
      "source": [
        "#Tipo float\n",
        "number = 1.2\n",
        "print(type(number))\n"
      ],
      "metadata": {
        "colab": {
          "base_uri": "https://localhost:8080/"
        },
        "id": "-V6m9N2JTq6a",
        "outputId": "ca224471-277d-4089-b969-ddacda404c2c"
      },
      "execution_count": null,
      "outputs": [
        {
          "output_type": "stream",
          "name": "stdout",
          "text": [
            "<class 'float'>\n"
          ]
        }
      ]
    },
    {
      "cell_type": "code",
      "source": [
        "#tipo booleano\n",
        "aprobado = True\n",
        "print(type(aprobado))"
      ],
      "metadata": {
        "colab": {
          "base_uri": "https://localhost:8080/"
        },
        "id": "efBhH4MZT0hy",
        "outputId": "f0559799-2791-4620-bc64-5aecf499a1c0"
      },
      "execution_count": null,
      "outputs": [
        {
          "output_type": "stream",
          "name": "stdout",
          "text": [
            "<class 'bool'>\n"
          ]
        }
      ]
    },
    {
      "cell_type": "code",
      "source": [
        "#Algunos metodos de String\n",
        "#Podemos crear Strings cuando atribuimos un dato a una variable entre comillas sencillas (') o comillas dobles (\").\n",
        "\n",
        "#convertir a mayusculas\n",
        "nombre = ' Joshua'\n",
        "print(nombre.upper())\n",
        "\n",
        "#convertir a minusculas\n",
        "apellido = ' Mendoza'\n",
        "print(apellido.lower())"
      ],
      "metadata": {
        "colab": {
          "base_uri": "https://localhost:8080/"
        },
        "id": "k87VLcnmT4bK",
        "outputId": "cf747535-09fb-4502-d531-a188fbdf408f"
      },
      "execution_count": null,
      "outputs": [
        {
          "output_type": "stream",
          "name": "stdout",
          "text": [
            " JOSHUA\n",
            " mendoza\n"
          ]
        }
      ]
    },
    {
      "cell_type": "code",
      "source": [
        "#Eliminar espacios en blanco\n",
        "nombre = ' Joshua '\n",
        "print(nombre.strip())\n",
        "\n",
        "#Reemplazar\n",
        "nombre = ' Joshua '\n",
        "print(nombre.replace('u','o'))"
      ],
      "metadata": {
        "colab": {
          "base_uri": "https://localhost:8080/"
        },
        "id": "2GnT7giSUQGS",
        "outputId": "3eca262d-5f53-4bb3-8962-a3a87f96718b"
      },
      "execution_count": null,
      "outputs": [
        {
          "output_type": "stream",
          "name": "stdout",
          "text": [
            "Joshua\n",
            " Joshoa \n"
          ]
        }
      ]
    },
    {
      "cell_type": "code",
      "source": [
        "#Usamos -> \\t -> para dar una tabulacion y \\n para dar un salto de linea\n",
        "#usamor format -> f -> para agregar nuestras variables en el print\n",
        "print(f'\\tMi Nombre es: {nombre.upper()} \\n\\tMi apellido es: {apellido.upper()}')"
      ],
      "metadata": {
        "colab": {
          "base_uri": "https://localhost:8080/"
        },
        "id": "Be72_IvdUd7i",
        "outputId": "babfcfb6-9656-4a96-9221-823d95e6a086"
      },
      "execution_count": null,
      "outputs": [
        {
          "output_type": "stream",
          "name": "stdout",
          "text": [
            "\tMi Nombre es:  JOSHUA \n",
            "\tMi apellido es:  MENDOZA\n"
          ]
        }
      ]
    },
    {
      "cell_type": "code",
      "source": [
        "#INPUT\n",
        "nombre = input('Ingresa tu nombre: ')\n",
        "print(f'Hola {nombre}')\n"
      ],
      "metadata": {
        "colab": {
          "base_uri": "https://localhost:8080/"
        },
        "id": "56dQqtzdU8rC",
        "outputId": "15932c74-7f49-4e5f-96d6-83cdcf9449dc"
      },
      "execution_count": null,
      "outputs": [
        {
          "output_type": "stream",
          "name": "stdout",
          "text": [
            "Ingresa tu nombre: Joshua\n",
            "Hola Joshua\n"
          ]
        }
      ]
    },
    {
      "cell_type": "markdown",
      "source": [
        "#Valores Unicode\n",
        "[Unicode](https://www.unicode.org/versions/stats/)\n",
        "\n"
      ],
      "metadata": {
        "id": "fZaskDEUyffv"
      }
    },
    {
      "cell_type": "code",
      "source": [
        "#Valores Unicode\n",
        "chr(64)"
      ],
      "metadata": {
        "colab": {
          "base_uri": "https://localhost:8080/",
          "height": 35
        },
        "id": "pdUpTeGUyM1F",
        "outputId": "8f1e5b5c-bfe7-4166-81f5-ba953f40fe9d"
      },
      "execution_count": null,
      "outputs": [
        {
          "output_type": "execute_result",
          "data": {
            "text/plain": [
              "'@'"
            ],
            "application/vnd.google.colaboratory.intrinsic+json": {
              "type": "string"
            }
          },
          "metadata": {},
          "execution_count": 7
        }
      ]
    },
    {
      "cell_type": "code",
      "source": [
        "#Hola\n",
        "chr(72) + chr(111) +  chr(108) + chr(97)"
      ],
      "metadata": {
        "colab": {
          "base_uri": "https://localhost:8080/",
          "height": 35
        },
        "id": "-Zt6Xo_ny8gV",
        "outputId": "d24e65a0-2ec8-49f3-a3dd-cdc2ae003325"
      },
      "execution_count": null,
      "outputs": [
        {
          "output_type": "execute_result",
          "data": {
            "text/plain": [
              "'Hola'"
            ],
            "application/vnd.google.colaboratory.intrinsic+json": {
              "type": "string"
            }
          },
          "metadata": {},
          "execution_count": 6
        }
      ]
    },
    {
      "cell_type": "markdown",
      "source": [
        "#Formatos de\n",
        "\n",
        "```\n",
        "print()\n",
        "```\n",
        "\n"
      ],
      "metadata": {
        "id": "DAdfxI3kzxVO"
      }
    },
    {
      "cell_type": "code",
      "source": [
        "#f-string\n",
        "nombre = \"Ana María\"\n",
        "edad = 17\n",
        "print(f\"El nombre de la alumna es {nombre} y su edad es {edad} años.\")"
      ],
      "metadata": {
        "colab": {
          "base_uri": "https://localhost:8080/"
        },
        "id": "V4Cumjp2zBkF",
        "outputId": "918b82a9-a112-4e9d-bb8e-cdd105427c4a"
      },
      "execution_count": null,
      "outputs": [
        {
          "output_type": "stream",
          "name": "stdout",
          "text": [
            "El nombre de la alumna es Ana María y su edad es 17 años.\n"
          ]
        }
      ]
    },
    {
      "cell_type": "markdown",
      "source": [
        "#Tipo de Variable\tPalabra Clave\n",
        "- Cadena de texto\t```\n",
        "%s\n",
        "```\n",
        "- Entero ```\n",
        "%d\n",
        "```\n",
        "- Punto flotante\t ```\n",
        "%f\n",
        "```\n",
        "- Caractér ```\n",
        "%c\n",
        "```"
      ],
      "metadata": {
        "id": "Gm8UP6bG0EnO"
      }
    },
    {
      "cell_type": "code",
      "source": [
        "#El % debe ir acompañado de una palabra clave para cada tipo de variable que se desee agregar.\n",
        "nombre_alumno = 'Penélope Camacho'\n",
        "print('Nombre del alumno: %s' %(nombre_alumno))"
      ],
      "metadata": {
        "colab": {
          "base_uri": "https://localhost:8080/"
        },
        "id": "B-3uTHurz99t",
        "outputId": "d560e54f-7f44-49ee-d691-f5ef4f1be749"
      },
      "execution_count": null,
      "outputs": [
        {
          "output_type": "stream",
          "name": "stdout",
          "text": [
            "Nombre del alumno: Penélope Camacho\n"
          ]
        }
      ]
    },
    {
      "cell_type": "code",
      "source": [
        "#Si tienes más de una variable, debes ordenarlas según su aparición en el texto y separarlas por comas.\n",
        "nombre_alumno = 'Penélope Camacho'\n",
        "edad_alumno = 11\n",
        "media_alumno = 9.95\n",
        "print('Nombre del alumno es %s, tiene %d años y su media es %f.' %(nombre_alumno, edad_alumno, media_alumno))"
      ],
      "metadata": {
        "colab": {
          "base_uri": "https://localhost:8080/"
        },
        "id": "y2h57J390lKm",
        "outputId": "5dbf2c32-ddc7-4a2f-cea3-b4d4d9a993d4"
      },
      "execution_count": null,
      "outputs": [
        {
          "output_type": "stream",
          "name": "stdout",
          "text": [
            "Nombre del alumno es Penélope Camacho, tiene 11 años y su media es 9.950000.\n"
          ]
        }
      ]
    },
    {
      "cell_type": "code",
      "source": [
        "#sintaxis %.xf, donde x es el número de decimales deseados.\n",
        "print('Nombre del alumno es %s, tiene %d años y su media es %.2f.' %(nombre_alumno, edad_alumno, media_alumno))"
      ],
      "metadata": {
        "colab": {
          "base_uri": "https://localhost:8080/"
        },
        "id": "0cTn11da0oel",
        "outputId": "aa26d653-26a1-4616-858b-ee6d917889c7"
      },
      "execution_count": null,
      "outputs": [
        {
          "output_type": "stream",
          "name": "stdout",
          "text": [
            "Nombre del alumno es Penélope Camacho, tiene 11 años y su media es 9.95.\n"
          ]
        }
      ]
    },
    {
      "cell_type": "code",
      "source": [
        "#% no funcionan directamente con valores booleanos.\n",
        "#Una forma de manejarlo es convirtiendo el valor booleano en una cadena antes de utilizarlo en el formateo con la función str()\n",
        "x = True\n",
        "print(\"Valor de x: %s\" % str(x))"
      ],
      "metadata": {
        "colab": {
          "base_uri": "https://localhost:8080/"
        },
        "id": "XF8ZMypC1WG2",
        "outputId": "1cba1fcb-09a7-4ef7-a28d-e270769ca77a"
      },
      "execution_count": null,
      "outputs": [
        {
          "output_type": "stream",
          "name": "stdout",
          "text": [
            "Valor de x: True\n"
          ]
        }
      ]
    },
    {
      "cell_type": "code",
      "source": [
        "#Método .format():\n",
        "nombre_alumno = 'Penélope Camacho'\n",
        "print('Nombre del alumno: {}'.format(nombre_alumno))"
      ],
      "metadata": {
        "colab": {
          "base_uri": "https://localhost:8080/"
        },
        "id": "iVEyMDxF1zH-",
        "outputId": "2fa92f7e-0971-45db-c3bf-0c9747a8b5c4"
      },
      "execution_count": null,
      "outputs": [
        {
          "output_type": "stream",
          "name": "stdout",
          "text": [
            "Nombre del alumno: Penélope Camacho\n"
          ]
        }
      ]
    },
    {
      "cell_type": "code",
      "source": [
        "nombre_alumno = 'Fabricio Daniel'\n",
        "edad_alumno = 15\n",
        "media_alumno = 9.95\n",
        "print('Nombre del alumno es {}, tiene {} años y su media es {}.' .format(nombre_alumno, edad_alumno, media_alumno))"
      ],
      "metadata": {
        "colab": {
          "base_uri": "https://localhost:8080/"
        },
        "id": "Err8LADT2Zoe",
        "outputId": "79a16136-3dcc-4e3d-f94c-ee74160a77da"
      },
      "execution_count": null,
      "outputs": [
        {
          "output_type": "stream",
          "name": "stdout",
          "text": [
            "Nombre del alumno es Fabricio Daniel, tiene 15 años y su media es 9.95.\n"
          ]
        }
      ]
    },
    {
      "cell_type": "markdown",
      "source": [
        "Nota que con .format(), no tienes el problema de los decimales de coma flotante. Tampoco tienes este problema con las f-strings."
      ],
      "metadata": {
        "id": "zVNHpfbA2nNY"
      }
    },
    {
      "cell_type": "markdown",
      "source": [
        "**Caracteres especiales**"
      ],
      "metadata": {
        "id": "IA0WNarU2vDP"
      }
    },
    {
      "cell_type": "code",
      "source": [
        "#\\n es el carácter de nueva línea y se usa para saltar una línea en el texto (similar a la función \"Enter\").\n",
        "print(\"Estudiar es un esfuerzo constante,\\nEs como cultivar una planta,\\nNecesitamos dedicación y paciencia,\\nPara ver madurar el fruto.\")"
      ],
      "metadata": {
        "colab": {
          "base_uri": "https://localhost:8080/"
        },
        "id": "owNTV_Fa2h_u",
        "outputId": "347f4fdc-b8a5-460e-a96e-6b42ab3dc58b"
      },
      "execution_count": null,
      "outputs": [
        {
          "output_type": "stream",
          "name": "stdout",
          "text": [
            "Estudiar es un esfuerzo constante,\n",
            "Es como cultivar una planta,\n",
            "Necesitamos dedicación y paciencia,\n",
            "Para ver madurar el fruto.\n"
          ]
        }
      ]
    },
    {
      "cell_type": "code",
      "source": [
        "#\\t es el carácter de tabulación y se utiliza para agregar un espacio de tabulación en el texto.\n",
        "print('Cantidad\\tCalidad\\n5 muestras\\tAlta\\n3 muestras\\tBaja')"
      ],
      "metadata": {
        "colab": {
          "base_uri": "https://localhost:8080/"
        },
        "id": "k-5QpkQC23Tu",
        "outputId": "a91df082-42b9-420f-f726-3b13955717b1"
      },
      "execution_count": null,
      "outputs": [
        {
          "output_type": "stream",
          "name": "stdout",
          "text": [
            "Cantidad\tCalidad\n",
            "5 muestras\tAlta\n",
            "3 muestras\tBaja\n"
          ]
        }
      ]
    },
    {
      "cell_type": "code",
      "source": [
        "#\\\\ se usa para imprimir una sola barra invertida.\n",
        "print(\"Ruta del archivo: C:\\\\archivos\\\\documento.csv\")"
      ],
      "metadata": {
        "colab": {
          "base_uri": "https://localhost:8080/"
        },
        "id": "UR_3oQK0262G",
        "outputId": "bde99fce-0fca-43e4-ea27-8e7892d5cde9"
      },
      "execution_count": null,
      "outputs": [
        {
          "output_type": "stream",
          "name": "stdout",
          "text": [
            "Ruta del archivo: C:\\archivos\\documento.csv\n"
          ]
        }
      ]
    },
    {
      "cell_type": "code",
      "source": [
        "#\\\" se utiliza para imprimir comillas dobles cuando estamos trabajando con una cadena creada con comillas dobles \"\n",
        "print(\"Una vez oí: \\\"Los frutos del conocimiento son los más dulces y duraderos de todos.\\\"\")"
      ],
      "metadata": {
        "colab": {
          "base_uri": "https://localhost:8080/"
        },
        "id": "jREjvr9u3HwO",
        "outputId": "a460613a-abcf-456b-b8ce-8e65b2bf6729"
      },
      "execution_count": null,
      "outputs": [
        {
          "output_type": "stream",
          "name": "stdout",
          "text": [
            "Una vez oí: \"Los frutos del conocimiento son los más dulces y duraderos de todos.\"\n"
          ]
        }
      ]
    },
    {
      "cell_type": "code",
      "source": [
        "#\\' se utiliza para imprimir comillas simples cuando estamos trabajando con una cadena creada con comillas simples\n",
        "print('Mi profesora una vez dijo: \\'Estudiar es la clave del éxito.\\'')"
      ],
      "metadata": {
        "colab": {
          "base_uri": "https://localhost:8080/"
        },
        "id": "NNhBb1Nw3N7O",
        "outputId": "09ed3f3a-6724-4fa0-8459-bf8d4f710aff"
      },
      "execution_count": null,
      "outputs": [
        {
          "output_type": "stream",
          "name": "stdout",
          "text": [
            "Mi profesora una vez dijo: 'Estudiar es la clave del éxito.'\n"
          ]
        }
      ]
    },
    {
      "cell_type": "code",
      "source": [
        "#1 - Crea un programa que solicite al usuario que escriba su nombre y luego imprima \"Hola, [nombre].\"\n",
        "name = input('Ingresa tu nombre: ')\n",
        "print(f'Hola {name}')"
      ],
      "metadata": {
        "colab": {
          "base_uri": "https://localhost:8080/"
        },
        "id": "6H6HrsU_3Vge",
        "outputId": "e7bfbbd0-1185-459b-b8c7-4e5875932b7c"
      },
      "execution_count": null,
      "outputs": [
        {
          "output_type": "stream",
          "name": "stdout",
          "text": [
            "Ingresa tu nombre: Joshua\n",
            "Hola Joshua\n"
          ]
        }
      ]
    },
    {
      "cell_type": "code",
      "source": [
        "#2 - Crea un programa que solicite al usuario que escriba su nombre y edad, y luego imprima \"Hola, [nombre], tienes [edad] años.\"\n",
        "name = input('Ingresa tu nombre: ')\n",
        "age = input('Ingresa tu edad: ')\n",
        "print(f'Hola {name}, tienes {age} años.')"
      ],
      "metadata": {
        "colab": {
          "base_uri": "https://localhost:8080/"
        },
        "id": "Fq6U59633-5n",
        "outputId": "728d4b85-9d93-4c50-f1d3-cf3aafdb0164"
      },
      "execution_count": null,
      "outputs": [
        {
          "output_type": "stream",
          "name": "stdout",
          "text": [
            "Ingresa tu nombre: Joshua\n",
            "Ingresa tu edad: 26\n",
            "Hola Joshua, tienes 26 años.\n"
          ]
        }
      ]
    },
    {
      "cell_type": "code",
      "source": [
        "#3 - Crea un programa que solicite al usuario que escriba su nombre, edad y altura en metros, y luego imprima \"Hola, [nombre], tienes [edad] años y mides [altura] metros.\"\n",
        "name = input('Ingresa tu nombre: ')\n",
        "age = input('Ingresa tu edad: ')\n",
        "height = input('Ingresa tu altura en metros: ')\n",
        "print(f'Hola {name}, tienes {age} años y mides {height} metros.')"
      ],
      "metadata": {
        "colab": {
          "base_uri": "https://localhost:8080/"
        },
        "id": "6NeHXBDv4GEn",
        "outputId": "d5ba3192-1c69-457f-86f4-6bd4bf732177"
      },
      "execution_count": null,
      "outputs": [
        {
          "output_type": "stream",
          "name": "stdout",
          "text": [
            "Ingresa tu nombre: JOSHUA\n",
            "Ingresa tu edad: 26\n",
            "Ingresa tu altura en metros: 1.66\n",
            "Hola JOSHUA, tienes 26 años y mides 1.66 metros.\n"
          ]
        }
      ]
    },
    {
      "cell_type": "code",
      "source": [
        "#Crea un programa que solicite dos valores numéricos al usuario y luego imprima la suma de ambos valores.\n",
        "primer_valor = int(input('Ingresa el primer valor: '))\n",
        "segundo_valor = int(input('Ingresa el segundo valor: '))\n",
        "suma = primer_valor + segundo_valor\n",
        "print(f'La suma de los valores es: {suma}')"
      ],
      "metadata": {
        "colab": {
          "base_uri": "https://localhost:8080/"
        },
        "id": "i_xWsBhD4OOP",
        "outputId": "2fea205f-dc63-4b5d-9b0a-e52685e41cdc"
      },
      "execution_count": null,
      "outputs": [
        {
          "output_type": "stream",
          "name": "stdout",
          "text": [
            "Ingresa el primer valor: 2\n",
            "Ingresa el segundo valor: 2\n",
            "La suma de los valores es: 4\n"
          ]
        }
      ]
    },
    {
      "cell_type": "code",
      "source": [
        "#5 - Crea un programa que solicite tres valores numéricos al usuario y luego imprima la suma de los tres valores.\n",
        "primer_valor = int(input('Ingresa el primer valor: '))\n",
        "segundo_valor = int(input('Ingresa el segundo valor: '))\n",
        "tercer_valor = int(input('Ingresa el tercer valor: '))\n",
        "suma = primer_valor + segundo_valor + tercer_valor\n",
        "print(f'La suma de los valores es: {suma}')"
      ],
      "metadata": {
        "colab": {
          "base_uri": "https://localhost:8080/"
        },
        "id": "uuE9KaPF4mf_",
        "outputId": "5d983160-5316-4b40-8d16-35e13f42dd55"
      },
      "execution_count": null,
      "outputs": [
        {
          "output_type": "stream",
          "name": "stdout",
          "text": [
            "Ingresa el primer valor: 5\n",
            "Ingresa el segundo valor: 89\n",
            "Ingresa el tercer valor: 56\n",
            "La suma de los valores es: 150\n"
          ]
        }
      ]
    },
    {
      "cell_type": "code",
      "source": [
        "#6 - Crea un programa que solicite dos valores numéricos al usuario y luego imprima la resta del primero menos el segundo valor.\n",
        "primer_valor = int(input('Ingresa el primer valor: '))\n",
        "segundo_valor = int(input('Ingresa el segundo valor: '))\n",
        "resta = primer_valor - segundo_valor\n",
        "print(f'La resta de los valores es: {resta}')"
      ],
      "metadata": {
        "colab": {
          "base_uri": "https://localhost:8080/"
        },
        "id": "W61ElvPZ4sIf",
        "outputId": "df75a2d4-4202-4bf7-d36b-e0b1cdead272"
      },
      "execution_count": null,
      "outputs": [
        {
          "output_type": "stream",
          "name": "stdout",
          "text": [
            "Ingresa el primer valor: 20\n",
            "Ingresa el segundo valor: 15\n",
            "La resta de los valores es: 5\n"
          ]
        }
      ]
    },
    {
      "cell_type": "code",
      "source": [
        "#7 - Crea un programa que solicite dos valores numéricos al usuario y luego imprima la multiplicación de los dos valores.\n",
        "primer_valor = int(input('Ingresa el primer valor: '))\n",
        "segundo_valor = int(input('Ingresa el segundo valor: '))\n",
        "multiplicacion = primer_valor * segundo_valor\n",
        "print(f'La multiplicacion de los valores es: {multiplicacion}')"
      ],
      "metadata": {
        "colab": {
          "base_uri": "https://localhost:8080/"
        },
        "id": "f_Xcy8oE5GSw",
        "outputId": "d4b8a4c8-d171-4af8-db8b-303f52b5a776"
      },
      "execution_count": null,
      "outputs": [
        {
          "output_type": "stream",
          "name": "stdout",
          "text": [
            "Ingresa el primer valor: 5\n",
            "Ingresa el segundo valor: 4\n",
            "La multiplicacion de los valores es: 20\n"
          ]
        }
      ]
    },
    {
      "cell_type": "code",
      "source": [
        "#8 - Crea un programa que solicite dos valores numéricos, un numerador y un denominador, y realice la división entre los dos valores. Asegúrate de que el valor del denominador no sea igual a 0.\n",
        "numerador = int(input('Ingresa el numerador: '))\n",
        "denominador = int(input('Ingresa el denominador: '))\n",
        "division = numerador / denominador\n",
        "print(f'La division de los valores es: {division}')"
      ],
      "metadata": {
        "colab": {
          "base_uri": "https://localhost:8080/"
        },
        "id": "riW8HaGS5KSn",
        "outputId": "8ccca0c1-ecbc-46ae-de9a-c2e569201d22"
      },
      "execution_count": null,
      "outputs": [
        {
          "output_type": "stream",
          "name": "stdout",
          "text": [
            "Ingresa el numerador: 12\n",
            "Ingresa el denominador: 2\n",
            "La division de los valores es: 6.0\n"
          ]
        }
      ]
    },
    {
      "cell_type": "code",
      "source": [
        "#Crea un programa que solicite dos valores numéricos, un numerador y un denominador, y devuelva el resto de la división entre los dos valores. Asegúrate de que el valor del denominador no sea igual a 0.\n",
        "numerador = int(input('Ingresa el numerador: '))\n",
        "denominador = int(input('Ingresa el denominador: '))\n",
        "resto = numerador % denominador\n",
        "print(f'El resto de la division de los valores es: {resto}')"
      ],
      "metadata": {
        "colab": {
          "base_uri": "https://localhost:8080/"
        },
        "id": "5s_2uEoW5RpX",
        "outputId": "d360f355-f0db-423b-f52b-f0deab18051b"
      },
      "execution_count": null,
      "outputs": [
        {
          "output_type": "stream",
          "name": "stdout",
          "text": [
            "Ingresa el numerador: 45\n",
            "Ingresa el denominador: 20\n",
            "El resto de la division de los valores es: 5\n"
          ]
        }
      ]
    },
    {
      "cell_type": "code",
      "source": [
        "#12 - Crea un código que solicite las 3 notas de un estudiante e imprima el promedio de las notas.\n",
        "nota1 = int(input('Ingresa la primera nota: '))\n",
        "nota2 = int(input('Ingresa la segunda nota: '))\n",
        "nota3 = int(input('Ingresa la tercera nota: '))\n",
        "promedio = (nota1 + nota2 + nota3) / 3\n",
        "print(f'El promedio de las notas es: {round(promedio,2)}')"
      ],
      "metadata": {
        "colab": {
          "base_uri": "https://localhost:8080/"
        },
        "id": "DJQVK1hX5b-f",
        "outputId": "bd81f85d-b3fb-4648-e823-194c6b979359"
      },
      "execution_count": null,
      "outputs": [
        {
          "output_type": "stream",
          "name": "stdout",
          "text": [
            "Ingresa la primera nota: 20\n",
            "Ingresa la segunda nota: 18\n",
            "Ingresa la tercera nota: 10\n",
            "El promedio de las notas es: 16.0\n"
          ]
        }
      ]
    },
    {
      "cell_type": "code",
      "source": [
        "#13 - Crea un código que calcule e imprima el promedio ponderado de los números 5, 12, 20 y 15 con pesos respectivamente iguales a 1, 2, 3 y 4.\n",
        "promedio_ponderado = (5 * 1 + 12 * 2 + 20 * 3 + 15 * 4) / (1 + 2 + 3 + 4)\n",
        "print(f'El promedio ponderado de los numeros es: {round(promedio_ponderado,2)}')"
      ],
      "metadata": {
        "colab": {
          "base_uri": "https://localhost:8080/"
        },
        "id": "2cAST5-i5lrv",
        "outputId": "5a926c6e-42b4-4158-9649-9d6f6a23a95a"
      },
      "execution_count": null,
      "outputs": [
        {
          "output_type": "stream",
          "name": "stdout",
          "text": [
            "El promedio ponderado de los numeros es: 14.9\n"
          ]
        }
      ]
    },
    {
      "cell_type": "markdown",
      "source": [
        "#Textos"
      ],
      "metadata": {
        "id": "hslpAH1sKKJH"
      }
    },
    {
      "cell_type": "code",
      "source": [
        "frase = 'Hola desde Google Colab'"
      ],
      "metadata": {
        "id": "_xQp355Y5_XY"
      },
      "execution_count": null,
      "outputs": []
    },
    {
      "cell_type": "code",
      "source": [
        "print(frase)"
      ],
      "metadata": {
        "colab": {
          "base_uri": "https://localhost:8080/"
        },
        "id": "8oqrpmQeKSgt",
        "outputId": "fcc2f87d-8d94-44c3-9688-85533978e821"
      },
      "execution_count": null,
      "outputs": [
        {
          "output_type": "stream",
          "name": "stdout",
          "text": [
            "Hola desde Google Colab\n"
          ]
        }
      ]
    },
    {
      "cell_type": "code",
      "source": [
        "frase_1 = input('Ingresa una frase: ')\n",
        "print(frase_1)"
      ],
      "metadata": {
        "colab": {
          "base_uri": "https://localhost:8080/"
        },
        "id": "LSwk6s1LKUKN",
        "outputId": "566e2f60-ae82-422a-815d-8dddc0c726e2"
      },
      "execution_count": null,
      "outputs": [
        {
          "output_type": "stream",
          "name": "stdout",
          "text": [
            "Ingresa una frase: La life es la Life\n",
            "La life es la Life\n"
          ]
        }
      ]
    },
    {
      "cell_type": "code",
      "source": [
        "frase_2 = input('ingresa una frase: ')\n",
        "print(frase_2.upper())"
      ],
      "metadata": {
        "colab": {
          "base_uri": "https://localhost:8080/"
        },
        "id": "o7kDnPfbKbz0",
        "outputId": "ab6e5a49-8bee-4f10-9197-0e7fe07c9e50"
      },
      "execution_count": null,
      "outputs": [
        {
          "output_type": "stream",
          "name": "stdout",
          "text": [
            "ingresa una frase: Hola mundillo\n",
            "HOLA MUNDILLO\n"
          ]
        }
      ]
    },
    {
      "cell_type": "code",
      "source": [
        "frase_3 = input('ingresa una frase: ')\n",
        "print(frase_3.lower())"
      ],
      "metadata": {
        "colab": {
          "base_uri": "https://localhost:8080/"
        },
        "id": "lghE6O2EKnON",
        "outputId": "daadcc71-d454-43e7-c995-d358a24fba3c"
      },
      "execution_count": null,
      "outputs": [
        {
          "output_type": "stream",
          "name": "stdout",
          "text": [
            "ingresa una frase: hOLA XD\n",
            "hola xd\n"
          ]
        }
      ]
    },
    {
      "cell_type": "code",
      "source": [
        "frase_4 = input('ingresa una frase: ')\n",
        "print(frase_4.strip())"
      ],
      "metadata": {
        "colab": {
          "base_uri": "https://localhost:8080/"
        },
        "id": "36sw_6sPYYPq",
        "outputId": "d061b9b0-a1ad-40ef-fe54-21ac8aec0f01"
      },
      "execution_count": null,
      "outputs": [
        {
          "output_type": "stream",
          "name": "stdout",
          "text": [
            "ingresa una frase:  Hola Mundo \n",
            "Hola Mundo\n"
          ]
        }
      ]
    },
    {
      "cell_type": "code",
      "source": [
        "frase_5  = input('ingresa una frase: ')\n",
        "print(frase_5.replace('e','f'))"
      ],
      "metadata": {
        "colab": {
          "base_uri": "https://localhost:8080/"
        },
        "id": "rDoDrRxFYr1y",
        "outputId": "66483c90-3657-461f-c947-3af6b2ffde83"
      },
      "execution_count": null,
      "outputs": [
        {
          "output_type": "stream",
          "name": "stdout",
          "text": [
            "ingresa una frase: Eres el mejor\n",
            "Erfs fl mfjor\n"
          ]
        }
      ]
    },
    {
      "cell_type": "code",
      "source": [
        "frase_6 = input('ingresa una frase: ')\n",
        "print(frase_6.replace('a', '@'))"
      ],
      "metadata": {
        "colab": {
          "base_uri": "https://localhost:8080/"
        },
        "id": "aF9YIvq7Y0rb",
        "outputId": "e328aafd-95ed-44c2-f6e4-3ff3e1b7bdc6"
      },
      "execution_count": null,
      "outputs": [
        {
          "output_type": "stream",
          "name": "stdout",
          "text": [
            "ingresa una frase: Hola a Todos y Todas\n",
            "Hol@ @ Todos y Tod@s\n"
          ]
        }
      ]
    },
    {
      "cell_type": "code",
      "source": [
        "frase_7 = input('ingresa una frase: ')\n",
        "print(frase_7.replace('s','$'))"
      ],
      "metadata": {
        "colab": {
          "base_uri": "https://localhost:8080/"
        },
        "id": "QdYnXeD-ZWMD",
        "outputId": "19fde983-5b1f-4cfc-a258-e78d40538981"
      },
      "execution_count": null,
      "outputs": [
        {
          "output_type": "stream",
          "name": "stdout",
          "text": [
            "ingresa una frase: Si o si lo vas a lograr\n",
            "Si o $i lo va$ a lograr\n"
          ]
        }
      ]
    },
    {
      "cell_type": "code",
      "source": [
        "#Operador and\n",
        "#La tabla de verdad del operador and muestra que la salida solo es Verdadero (True) si ambos operandos son Verdaderos. De lo contrario, devuelve Falso (False), como se muestra en la siguiente tabla:\n",
        "#operando_1\t|operando_2\t |operando_1 and operando_2\n",
        "#False\t    |False\t     |False\n",
        "#False\t    |True\t       |False\n",
        "#True\t      |False\t     |False\n",
        "#True\t      |True\t       |True"
      ],
      "metadata": {
        "id": "Rc46FZOSZgTD"
      },
      "execution_count": null,
      "outputs": []
    },
    {
      "cell_type": "code",
      "source": [
        "#Operador or\n",
        "#La tabla de verdad del operador or muestra que la salida solo es Falso (False) si ambos operandos son Falsos; de lo contrario, devuelve Verdadero (True)\n",
        "#operando_1\t|operando_2\t |operando_1 and operando_2\n",
        "#False\t    |False\t     |False\n",
        "#False\t    |True\t       |True\n",
        "#True\t      |False\t     |True\n",
        "#True\t      |True\t       |True"
      ],
      "metadata": {
        "id": "1UxCpwoJiK8T"
      },
      "execution_count": null,
      "outputs": []
    },
    {
      "cell_type": "code",
      "source": [
        "#Operador not\n",
        "#El operador not tiene una tabla de verdad más simple, ya que simplemente invierte el valor del operando. Si el operando es Verdadero, devuelve Falso; si es Falso, devuelve Verdadero.\n",
        "#operando \t|not operando\n",
        "#False\t    |False"
      ],
      "metadata": {
        "id": "ybxBwMoOiK_c"
      },
      "execution_count": null,
      "outputs": []
    },
    {
      "cell_type": "code",
      "source": [
        "#\n",
        "num_1 = int(input('Ingresa el primer numero: '))\n",
        "num_2 = int(input('Ingresa el segundo numero: '))\n",
        "if num_1 > num_2:\n",
        "  print(f'El numero {num_1} es mayor')\n",
        "else:\n",
        "  print(f'El numero {num_2} es mayor')"
      ],
      "metadata": {
        "id": "FVindhJ-iLJr",
        "outputId": "93d42db1-28bf-40cb-859f-6fb53441a7d7",
        "colab": {
          "base_uri": "https://localhost:8080/"
        }
      },
      "execution_count": null,
      "outputs": [
        {
          "output_type": "stream",
          "name": "stdout",
          "text": [
            "Ingresa el primer numero: 10\n",
            "Ingresa el segundo numero: 25\n",
            "El numero 25 es mayor\n"
          ]
        }
      ]
    },
    {
      "cell_type": "code",
      "source": [
        "procentaje_crecimiento = int(input('Ingresa el porcentaje de crecimiento de la empresa: '))\n",
        "\n",
        "if procentaje_crecimiento > 0:\n",
        "  print('La empresa ha crecido')\n",
        "else:\n",
        "  print('La empresa ha decrecido')"
      ],
      "metadata": {
        "id": "ydt1ZCqHi2Y0",
        "outputId": "dcb1b740-fc7f-434c-abe9-fbee7d751138",
        "colab": {
          "base_uri": "https://localhost:8080/"
        }
      },
      "execution_count": null,
      "outputs": [
        {
          "output_type": "stream",
          "name": "stdout",
          "text": [
            "Ingresa el porcentaje de crecimiento de la empresa: -15\n",
            "La empresa ha decrecido\n"
          ]
        }
      ]
    },
    {
      "cell_type": "code",
      "source": [
        "lista_vocales = 'a,e,i,o,u'\n",
        "letra = input('Ingresa una letra: ')\n",
        "letra_minus = letra.lower()\n",
        "if letra_minus in lista_vocales:\n",
        "  print(f'La letra {letra_minus} es una vocal')\n",
        "else:\n",
        "  print(f'La letra {letra_minus} es una consonante')"
      ],
      "metadata": {
        "id": "VU2GmVIHjxxt",
        "outputId": "fb209aec-294a-42f1-ab5e-474fd59181f6",
        "colab": {
          "base_uri": "https://localhost:8080/"
        }
      },
      "execution_count": null,
      "outputs": [
        {
          "output_type": "stream",
          "name": "stdout",
          "text": [
            "Ingresa una letra: R\n",
            "La letra r es una consonante\n"
          ]
        }
      ]
    },
    {
      "cell_type": "code",
      "source": [
        "historial_precios_autos = [50.250, 59.36, 67.500, 44.45]\n",
        "precio_alto = max(historial_precios_autos)\n",
        "precio_menor = min(historial_precios_autos)\n",
        "print(f'El precio mas alto es: {precio_alto}')\n",
        "print(f'El precio mas bajo es: {precio_menor}')"
      ],
      "metadata": {
        "id": "KUI09f8ykyQU",
        "outputId": "f6738015-ef14-4e78-f66e-08b70d06acfa",
        "colab": {
          "base_uri": "https://localhost:8080/"
        }
      },
      "execution_count": null,
      "outputs": [
        {
          "output_type": "stream",
          "name": "stdout",
          "text": [
            "El precio mas alto es: 67.5\n",
            "El precio mas bajo es: 44.45\n"
          ]
        }
      ]
    },
    {
      "cell_type": "code",
      "source": [
        "#Escribe un programa que pregunte sobre el precio de tres productos e indique cuál es el producto más barato para comprar.\n",
        "precios = []\n",
        "for i in range(1,4):\n",
        "  precio = int(input(f'Ingresa el precio del valor {i}:'))\n",
        "  precios.append(precio)\n",
        "precio_menor = min(precios)\n",
        "print(f'El precio mas bajo es: {precio_menor}')\n"
      ],
      "metadata": {
        "id": "1p_uqESkpC8N",
        "outputId": "5d41ed76-d049-4678-9ac6-7ad40c8c0984",
        "colab": {
          "base_uri": "https://localhost:8080/"
        }
      },
      "execution_count": null,
      "outputs": [
        {
          "output_type": "stream",
          "name": "stdout",
          "text": [
            "Ingresa el precio del valor 1:51\n",
            "Ingresa el precio del valor 2:58\n",
            "Ingresa el precio del valor 3:20\n",
            "El precio mas bajo es: 20\n"
          ]
        }
      ]
    },
    {
      "cell_type": "code",
      "source": [
        "num = []\n",
        "for i in range(1,4):\n",
        "  num.append(int(input(f'Ingresa el numero {i}:')))\n",
        "num.sort(reverse=True)\n",
        "print(num)"
      ],
      "metadata": {
        "id": "fc9kzwkanSbW",
        "outputId": "59380bb8-ae4d-40b3-93ab-479c65750a83",
        "colab": {
          "base_uri": "https://localhost:8080/"
        }
      },
      "execution_count": null,
      "outputs": [
        {
          "output_type": "stream",
          "name": "stdout",
          "text": [
            "Ingresa el numero 1:2\n",
            "Ingresa el numero 2:12\n",
            "Ingresa el numero 3:45\n",
            "[45, 12, 2]\n"
          ]
        }
      ]
    },
    {
      "cell_type": "code",
      "source": [
        "turno_estudio = input('Ingresa tu turno de estudio: ')\n",
        "turno = turno_estudio.lower()\n",
        "if turno == 'mañana':\n",
        "  print('Buenos dias')\n",
        "elif turno == 'tarde':\n",
        "  print('Buenas tardes')\n",
        "elif turno == 'noche':\n",
        "  print('Buenas noches')\n",
        "else:\n",
        "  print('Valor incorrecto')"
      ],
      "metadata": {
        "id": "uqSHDMbBpMCV",
        "colab": {
          "base_uri": "https://localhost:8080/"
        },
        "outputId": "1e9df59a-6cd6-4767-a79b-7bb06c323b4a"
      },
      "execution_count": null,
      "outputs": [
        {
          "output_type": "stream",
          "name": "stdout",
          "text": [
            "Ingresa tu turno de estudio: mañana\n",
            "Buenos dias\n"
          ]
        }
      ]
    },
    {
      "cell_type": "code",
      "source": [
        "number = int(input('Ingresa un numero: '))\n",
        "if number % 2 == 0:\n",
        "  print(f'El numero {number} es par')\n",
        "else:\n",
        "  print(f'El numero {number} es impar')"
      ],
      "metadata": {
        "colab": {
          "base_uri": "https://localhost:8080/"
        },
        "id": "BfWNjSTqUVPm",
        "outputId": "79c1e255-595f-46e6-b2c0-257937b72f03"
      },
      "execution_count": null,
      "outputs": [
        {
          "output_type": "stream",
          "name": "stdout",
          "text": [
            "Ingresa un numero: 25\n",
            "El numero 25 es impar\n"
          ]
        }
      ]
    },
    {
      "cell_type": "code",
      "source": [
        "number = float(input('Ingresa un numero: '))\n",
        "if number == int(number):\n",
        "    print(f'El numero {round(number)} es entero')\n",
        "else:\n",
        "    print(f'El numero {number} es decimal')"
      ],
      "metadata": {
        "colab": {
          "base_uri": "https://localhost:8080/"
        },
        "id": "O8kfgn6KUecM",
        "outputId": "eb731dc9-6faf-421d-d359-5c3911df3465"
      },
      "execution_count": null,
      "outputs": [
        {
          "output_type": "stream",
          "name": "stdout",
          "text": [
            "Ingresa un numero: 2\n",
            "El numero 2 es entero\n"
          ]
        }
      ]
    },
    {
      "cell_type": "markdown",
      "source": [
        "#Momento de los proyectos\n",
        "\n"
      ],
      "metadata": {
        "id": "JIHc_UgbX_9f"
      }
    },
    {
      "cell_type": "code",
      "source": [
        "numero_1 = int(input('Ingresa el primer numero: '))\n",
        "numero_2 = int(input('Ingresa el segundo numero: '))\n",
        "operacion = input('Ingresa la operacion a realizar \\nsuma=1 \\nresta=2 \\nmultiplicacion=3 \\ndivision=4: ')\n",
        "if operacion == '1':\n",
        "  calculo = numero_1 + numero_2\n",
        "  print(f'La suma de los numeros es: {calculo}')\n",
        "  if calculo % 2 == 0:\n",
        "    print(f'El numero {calculo} es par')\n",
        "  else:\n",
        "      print(f'El numero {calculo} es impar')\n",
        "  if calculo > 0:\n",
        "    print(f'El numero {calculo} es positivo')\n",
        "  else:\n",
        "    print(f'El numero {calculo} es negativo')\n",
        "  if calculo == int(calculo):\n",
        "    print(f'El numero {calculo} es entero')\n",
        "  else:\n",
        "    print(f'El numero {calculo} es decimal')\n",
        "elif operacion == '2':\n",
        "  calculo = numero_1 - numero_2\n",
        "  print(f'La resta de los numeros es: {calculo}')\n",
        "  if calculo % 2 == 0:\n",
        "    print(f'El numero {calculo} es par')\n",
        "  else:\n",
        "      print(f'El numero {calculo} es impar')\n",
        "  if calculo > 0:\n",
        "    print(f'El numero {calculo} es positivo')\n",
        "  else:\n",
        "    print(f'El numero {calculo} es negativo')\n",
        "  if calculo == int(calculo):\n",
        "    print(f'El numero {calculo} es entero')\n",
        "  else:\n",
        "    print(f'El numero {calculo} es decimal')\n",
        "elif operacion == '3':\n",
        "  calculo = numero_1 * numero_2\n",
        "  print(f'La multilicación de los numeros es: {calculo}')\n",
        "  if calculo % 2 == 0:\n",
        "    print(f'El numero {calculo} es par')\n",
        "  else:\n",
        "      print(f'El numero {calculo} es impar')\n",
        "  if calculo > 0:\n",
        "    print(f'El numero {calculo} es positivo')\n",
        "  else:\n",
        "    print(f'El numero {calculo} es negativo')\n",
        "  if calculo == int(calculo):\n",
        "    print(f'El numero {calculo} es entero')\n",
        "  else:\n",
        "    print(f'El numero {calculo} es decimal')\n",
        "elif operacion == '4':\n",
        "  calculo = numero_1 / numero_2\n",
        "  print(f'La división de los numeros es: {calculo}')\n",
        "  if calculo % 2 == 0:\n",
        "    print(f'El numero {calculo} es par')\n",
        "  else:\n",
        "      print(f'El numero {calculo} es impar')\n",
        "  if calculo > 0:\n",
        "    print(f'El numero {calculo} es positivo')\n",
        "  else:\n",
        "    print(f'El numero {calculo} es negativo')\n",
        "  if calculo == int(calculo):\n",
        "    print(f'El numero {calculo} es entero')\n",
        "  else:\n",
        "    print(f'El numero {calculo} es decimal')\n",
        "else:\n",
        "  print('Operacion incorrecta')"
      ],
      "metadata": {
        "id": "Ewd4AbSUWvJ1",
        "colab": {
          "base_uri": "https://localhost:8080/"
        },
        "outputId": "4de4ee7e-ed59-4ff7-a564-3148d9835647"
      },
      "execution_count": null,
      "outputs": [
        {
          "output_type": "stream",
          "name": "stdout",
          "text": [
            "Ingresa el primer numero: 50\n",
            "Ingresa el segundo numero: 58\n",
            "Ingresa la operacion a realizar \n",
            "suma=1 \n",
            "resta=2 \n",
            "multiplicacion=3 \n",
            "division=4: 2\n",
            "La resta de los numeros es: -8\n",
            "El numero -8 es par\n",
            "El numero -8 es negativo\n",
            "El numero -8 es entero\n"
          ]
        }
      ]
    },
    {
      "cell_type": "code",
      "source": [
        "longitud_1 = int(input('Ingresa la longitud del primer lado: '))\n",
        "longitud_2 = int(input('Ingresa la longitud del segundo lado: '))\n",
        "longitud_3 = int(input('Ingresa la longitud del tercer lado: '))\n",
        "if longitud_1 + longitud_2 > longitud_3 and longitud_1 + longitud_3 > longitud_2 and longitud_2 + longitud_3 > longitud_1:\n",
        "  print('Se puede formar un triangulo')\n",
        "  if longitud_1 == longitud_2 == longitud_3:\n",
        "    print('El triangulo es equilatero')\n",
        "  elif longitud_1 == longitud_2 or longitud_1 == longitud_3 or longitud_2 == longitud_3:\n",
        "    print('El triangulo es isoceles')\n",
        "  else:\n",
        "    print('El triangulo es escaleno')\n",
        "else:\n",
        "  print('No se puede formar un triangulo')\n"
      ],
      "metadata": {
        "colab": {
          "base_uri": "https://localhost:8080/"
        },
        "id": "6q54-Xx-Yb4_",
        "outputId": "c3f5ce1b-2df6-4a4c-cc90-b0633eb0c6f6"
      },
      "execution_count": null,
      "outputs": [
        {
          "output_type": "stream",
          "name": "stdout",
          "text": [
            "Ingresa la longitud del primer lado: 1\n",
            "Ingresa la longitud del segundo lado: 1\n",
            "Ingresa la longitud del tercer lado: 0\n",
            "No se puede formar un triangulo\n"
          ]
        }
      ]
    },
    {
      "cell_type": "code",
      "source": [
        "#PRECIO = $1.70 POR LITRO\n",
        "#ETANOL = HASTA 15 LITROS -> DESCUENTO DE 2% POR LITRO\n",
        "#ETANOL = MAS 15 LITROS -> DESCUENTO DE 4% POR LITRO\n",
        "\n",
        "#PRECIO = $2.00 POR LITRO\n",
        "#DIESES = HASTA 15 LITROS -> DESCUENTO DE 3% POR LITRO\n",
        "#DIESEL = MAS 15 LITROS -> DESCUENTO DE 5% POR LITRO\n",
        "\n",
        "#descuentos Diesel\n",
        "precio_diesel = 2.00\n",
        "hasta_15_litros_diesel = 0.97\n",
        "mas_15_litros_diesel = 0.95\n",
        "#descuentos Etanol\n",
        "precio_etanol = 1.70\n",
        "hasta_15_litros_etanol = 0.98\n",
        "mas_15_litros_etanol = 0.96\n",
        "\n",
        "litros = float(input('Ingresa la cantidad de litros: '))\n",
        "tipo_combustible = input('Ingresa el tipo de combustible: \\nDiesel = D \\nEtanol = E ')\n",
        "if tipo_combustible.upper() == 'D':\n",
        "  if litros <= 15:\n",
        "    precio_con_descuento = precio_diesel * hasta_15_litros_diesel\n",
        "    neto = litros * precio_con_descuento\n",
        "  else:\n",
        "    precio_con_descuento = precio_diesel * mas_15_litros_diesel\n",
        "    neto = litros * precio_con_descuento\n",
        "elif tipo_combustible.upper() == 'E':\n",
        "  if litros <= 15:\n",
        "    precio_con_descuento = precio_etanol * hasta_15_litros_etanol\n",
        "    neto = litros * precio_con_descuento\n",
        "  else:\n",
        "    precio_con_descuento = precio_etanol * mas_15_litros_etanol\n",
        "    neto = litros * precio_con_descuento\n",
        "print(f'El total de Litros es: {litros} \\nPrecio: ${litros * precio_etanol} \\nUsted tiene un descuento de: ${round(litros * precio_etanol - neto, 2)} \\nMonto Bruto a pagar: {round(neto,2)}')"
      ],
      "metadata": {
        "colab": {
          "base_uri": "https://localhost:8080/"
        },
        "id": "17GXYzrDgaJv",
        "outputId": "18dd390c-bc05-4973-e8c6-e00a05771e97"
      },
      "execution_count": null,
      "outputs": [
        {
          "output_type": "stream",
          "name": "stdout",
          "text": [
            "Ingresa la cantidad de litros: 25\n",
            "Ingresa el tipo de combustible: \n",
            "Diesel = D \n",
            "Etanol = E e\n",
            "El total de Litros es: 25.0 \n",
            "Precio: $42.5 \n",
            "Usted tiene un descuento de: $1.7 \n",
            "Monto Bruto a pagar: 40.8\n"
          ]
        }
      ]
    },
    {
      "cell_type": "code",
      "source": [
        "cantidad_ventas_2022 = int(input('Ingresa la cantidad de ventas del año 2022: '))\n",
        "cantidad_ventas_2023 = int(input('Ingresa la cantidad de ventas del año 2023: '))\n",
        "\n",
        "\n",
        "cant_ventas = []\n",
        "cant_ventas.append(cantidad_ventas_2022)\n",
        "cant_ventas.append(cantidad_ventas_2023)\n",
        "variacion_porcentual = ((cantidad_ventas_2023 - cantidad_ventas_2022) / cantidad_ventas_2022) * 100\n",
        "if variacion_porcentual > 20:\n",
        "  print(f'El número de ventas en {2023 if cantidad_ventas_2022 < cantidad_ventas_2023 else 2022} fue mayor que el de {2022 if cantidad_ventas_2022 < cantidad_ventas_2023 else 2023}. \\nSe obtuvo una variacion de:{round(variacion_porcentual,2)}% \\nEl equipo de ventas recibira una bonificación, Felicidades!')\n",
        "elif variacion_porcentual >= 2 and variacion_porcentual <= 20:\n",
        "  print(f'El número de ventas en {2023 if cantidad_ventas_2022 < cantidad_ventas_2023 else 2022} fue mayor que el de {2022 if cantidad_ventas_2022 < cantidad_ventas_2023 else 2023}. \\nSe obtuvo una variacion de:{round(variacion_porcentual,2)}% \\nEl equipo de ventas recibira una pequeña bonificación, Felicidades!')\n",
        "elif variacion_porcentual >= -10 and variacion_porcentual <= 2:\n",
        "  print(f'El número de ventas en {2023 if cantidad_ventas_2022 < cantidad_ventas_2023 else 2022} fue mayor que el de {2022 if cantidad_ventas_2022 < cantidad_ventas_2023 else 2023}. \\nSe obtuvo una variacion de:{round(variacion_porcentual,2)}% \\nSe realizara una planificación de politicas de incentivos a las ventas')\n",
        "else:\n",
        "  print('Se realizara un recorte de gastos')"
      ],
      "metadata": {
        "colab": {
          "base_uri": "https://localhost:8080/"
        },
        "id": "PrZzmXUpnUTR",
        "outputId": "dd0c4f7b-b32b-403b-d9df-72e8809462b6"
      },
      "execution_count": null,
      "outputs": [
        {
          "output_type": "stream",
          "name": "stdout",
          "text": [
            "Ingresa la cantidad de ventas del año 2022: 199\n",
            "Ingresa la cantidad de ventas del año 2023: 189\n",
            "El número de ventas en 2022 fue mayor que el de 2023. \n",
            "Se obtuvo una variacion de:-5.03% \n",
            "Se realizara una planificación de politicas de incentivos a las ventas\n"
          ]
        }
      ]
    },
    {
      "cell_type": "markdown",
      "source": [
        "#While\n",
        "##Para el \"while,\" el bloque se repite mientras una cierta condición sea verdadera. En el contexto de Ciencia de Datos, los bucles pueden contribuir significativamente a un estudio basado en datos."
      ],
      "metadata": {
        "id": "rr-dG7ntnB48"
      }
    },
    {
      "cell_type": "code",
      "source": [
        "#Operadores de asignacion\n",
        "precio = 2.00\n",
        "precio += 3\n",
        "print(precio)"
      ],
      "metadata": {
        "id": "Fc4VcsPzueyS",
        "colab": {
          "base_uri": "https://localhost:8080/"
        },
        "outputId": "1713b2b9-bee7-4241-ff55-5a332df62deb"
      },
      "execution_count": null,
      "outputs": [
        {
          "output_type": "stream",
          "name": "stdout",
          "text": [
            "5.0\n"
          ]
        }
      ]
    },
    {
      "cell_type": "code",
      "source": [
        "#Operador\n",
        "#-=\tResta un valor de la variable precio\t-= 5\n",
        "#*=\tMultiplica un valor por la variable precio\t*= 3\n",
        "#/=\tDivide la variable por un valor precio\t/= 2\n",
        "#//=\tRealiza una división entera de la variable por un valor precio\t//= 6\n",
        "#%=\tCalcula el resto de la división del valor en la variable y asigna el resultado a la variable precio\t%= 5"
      ],
      "metadata": {
        "id": "LaBOlplbnKPk"
      },
      "execution_count": null,
      "outputs": []
    },
    {
      "cell_type": "code",
      "source": [
        "#suma de 5 en 5}\n",
        "count = 5\n",
        "while count <= 100:\n",
        "  print(f'-> {count}')\n",
        "  count += 5"
      ],
      "metadata": {
        "colab": {
          "base_uri": "https://localhost:8080/"
        },
        "id": "v1zfwvXRnjhE",
        "outputId": "418db213-adbf-4fd6-9cc4-1f4670a064f9"
      },
      "execution_count": null,
      "outputs": [
        {
          "output_type": "stream",
          "name": "stdout",
          "text": [
            "-> 5\n",
            "-> 10\n",
            "-> 15\n",
            "-> 20\n",
            "-> 25\n",
            "-> 30\n",
            "-> 35\n",
            "-> 40\n",
            "-> 45\n",
            "-> 50\n",
            "-> 55\n",
            "-> 60\n",
            "-> 65\n",
            "-> 70\n",
            "-> 75\n",
            "-> 80\n",
            "-> 85\n",
            "-> 90\n",
            "-> 95\n",
            "-> 100\n"
          ]
        }
      ]
    },
    {
      "cell_type": "markdown",
      "source": [
        "FOR\n",
        "El lazo for es un tipo de estructura de control de flujo en Python que permite iterar sobre un conjunto de elementos. Su estructura es:\n",
        "\n",
        "for elemento in conjunto:\n",
        "    # codigo a ser ejecutado para cada elemento"
      ],
      "metadata": {
        "id": "LCny_pnDoZkd"
      }
    },
    {
      "cell_type": "markdown",
      "source": [
        "continue interrumpe la iteración actual del bucle y salta a la siguiente, es decir, regresa al inicio del código. Como ejemplo, aquí hay un código que cuenta del 1 al 5 con un bucle for:"
      ],
      "metadata": {
        "id": "jBYxfoZZrUfk"
      }
    },
    {
      "cell_type": "code",
      "source": [
        "for i in range(1, 6):\n",
        "    if i == 4:\n",
        "        continue\n",
        "    print(i)"
      ],
      "metadata": {
        "colab": {
          "base_uri": "https://localhost:8080/"
        },
        "id": "_8q5vQDwn3Mb",
        "outputId": "7ea70e82-b81d-484e-d63e-0bec8a225c88"
      },
      "execution_count": null,
      "outputs": [
        {
          "output_type": "stream",
          "name": "stdout",
          "text": [
            "1\n",
            "2\n",
            "3\n",
            "5\n"
          ]
        }
      ]
    },
    {
      "cell_type": "markdown",
      "source": [
        "Por otro lado, break detiene por completo la ejecución del bucle, saliendo del bloque de código. Utilicemos el mismo ejemplo de conteo, pero esta vez con break:"
      ],
      "metadata": {
        "id": "pQbNnI4wr2-9"
      }
    },
    {
      "cell_type": "code",
      "source": [
        "for i in range(1, 6):\n",
        "    if i == 4:\n",
        "        break\n",
        "    print(i)"
      ],
      "metadata": {
        "colab": {
          "base_uri": "https://localhost:8080/"
        },
        "id": "CYJocmD3r1qU",
        "outputId": "0327e57e-6be3-4af8-e204-26510a3557a2"
      },
      "execution_count": null,
      "outputs": [
        {
          "output_type": "stream",
          "name": "stdout",
          "text": [
            "1\n",
            "2\n",
            "3\n"
          ]
        }
      ]
    },
    {
      "cell_type": "code",
      "source": [
        "num_entero_1 = int(input('Ingresa un numero entero: '))\n",
        "num_entero_2 = int(input('Ingresa un numero entero: '))\n",
        "\n",
        "if num_entero_1 % 2 == 0 and num_entero_2 % 2 == 0:\n",
        "  if num_entero_1 < num_entero_2:\n",
        "    for i in range(num_entero_1, num_entero_2 + 1, 2):\n",
        "      print(i)\n",
        "  else:\n",
        "    for i in range(num_entero_2, num_entero_1 + 1, 2):\n",
        "      print(i)\n",
        "else:\n",
        "  print('Los numeros no son pares')"
      ],
      "metadata": {
        "colab": {
          "base_uri": "https://localhost:8080/"
        },
        "id": "QqVFa7thr8xz",
        "outputId": "6556f79a-fd12-4858-a5bb-24ade6bcb298"
      },
      "execution_count": null,
      "outputs": [
        {
          "output_type": "stream",
          "name": "stdout",
          "text": [
            "Ingresa un numero entero: 5\n",
            "Ingresa un numero entero: 12\n",
            "Los numeros no son pares\n"
          ]
        }
      ]
    },
    {
      "cell_type": "code",
      "source": [
        "#Escribe un programa para calcular cuántos días tomará que la colonia de una bacteria A supere o iguale a la colonia de una bacteria B, basado en tasas de crecimiento del 3% y 1.5%, respectivamente. Supón que la colonia A comienza con 4 elementos y B con 10.\n",
        "bacterias_a = 4\n",
        "bacterias_b = 10\n",
        "\n",
        "tasa_crecimiento_a = 0.03\n",
        "tasa_crecimiento_b = 0.015\n",
        "\n",
        "dias = 0\n",
        "\n",
        "while bacterias_a < bacterias_b:\n",
        "    bacterias_a *= (1 + tasa_crecimiento_a)\n",
        "    bacterias_b *= (1 + tasa_crecimiento_b)\n",
        "    print(f'Día {dias}\\nCrecimiento Bacteria A: {round(bacterias_a,2)}\\nCrecimiento Bacteria B: {round(bacterias_b,2)}')\n",
        "    dias += 1\n",
        "print(f'Se necesitaron {dias} dias para que la bacteria A supere a la bacteria B')\n"
      ],
      "metadata": {
        "colab": {
          "base_uri": "https://localhost:8080/"
        },
        "id": "XuHINSeivWHF",
        "outputId": "56341ff4-501a-42e5-f7e0-b2a407678267"
      },
      "execution_count": null,
      "outputs": [
        {
          "output_type": "stream",
          "name": "stdout",
          "text": [
            "Día 0\n",
            "Crecimiento Bacteria A: 4.12\n",
            "Crecimiento Bacteria B: 10.15\n",
            "Día 1\n",
            "Crecimiento Bacteria A: 4.24\n",
            "Crecimiento Bacteria B: 10.3\n",
            "Día 2\n",
            "Crecimiento Bacteria A: 4.37\n",
            "Crecimiento Bacteria B: 10.46\n",
            "Día 3\n",
            "Crecimiento Bacteria A: 4.5\n",
            "Crecimiento Bacteria B: 10.61\n",
            "Día 4\n",
            "Crecimiento Bacteria A: 4.64\n",
            "Crecimiento Bacteria B: 10.77\n",
            "Día 5\n",
            "Crecimiento Bacteria A: 4.78\n",
            "Crecimiento Bacteria B: 10.93\n",
            "Día 6\n",
            "Crecimiento Bacteria A: 4.92\n",
            "Crecimiento Bacteria B: 11.1\n",
            "Día 7\n",
            "Crecimiento Bacteria A: 5.07\n",
            "Crecimiento Bacteria B: 11.26\n",
            "Día 8\n",
            "Crecimiento Bacteria A: 5.22\n",
            "Crecimiento Bacteria B: 11.43\n",
            "Día 9\n",
            "Crecimiento Bacteria A: 5.38\n",
            "Crecimiento Bacteria B: 11.61\n",
            "Día 10\n",
            "Crecimiento Bacteria A: 5.54\n",
            "Crecimiento Bacteria B: 11.78\n",
            "Día 11\n",
            "Crecimiento Bacteria A: 5.7\n",
            "Crecimiento Bacteria B: 11.96\n",
            "Día 12\n",
            "Crecimiento Bacteria A: 5.87\n",
            "Crecimiento Bacteria B: 12.14\n",
            "Día 13\n",
            "Crecimiento Bacteria A: 6.05\n",
            "Crecimiento Bacteria B: 12.32\n",
            "Día 14\n",
            "Crecimiento Bacteria A: 6.23\n",
            "Crecimiento Bacteria B: 12.5\n",
            "Día 15\n",
            "Crecimiento Bacteria A: 6.42\n",
            "Crecimiento Bacteria B: 12.69\n",
            "Día 16\n",
            "Crecimiento Bacteria A: 6.61\n",
            "Crecimiento Bacteria B: 12.88\n",
            "Día 17\n",
            "Crecimiento Bacteria A: 6.81\n",
            "Crecimiento Bacteria B: 13.07\n",
            "Día 18\n",
            "Crecimiento Bacteria A: 7.01\n",
            "Crecimiento Bacteria B: 13.27\n",
            "Día 19\n",
            "Crecimiento Bacteria A: 7.22\n",
            "Crecimiento Bacteria B: 13.47\n",
            "Día 20\n",
            "Crecimiento Bacteria A: 7.44\n",
            "Crecimiento Bacteria B: 13.67\n",
            "Día 21\n",
            "Crecimiento Bacteria A: 7.66\n",
            "Crecimiento Bacteria B: 13.88\n",
            "Día 22\n",
            "Crecimiento Bacteria A: 7.89\n",
            "Crecimiento Bacteria B: 14.08\n",
            "Día 23\n",
            "Crecimiento Bacteria A: 8.13\n",
            "Crecimiento Bacteria B: 14.3\n",
            "Día 24\n",
            "Crecimiento Bacteria A: 8.38\n",
            "Crecimiento Bacteria B: 14.51\n",
            "Día 25\n",
            "Crecimiento Bacteria A: 8.63\n",
            "Crecimiento Bacteria B: 14.73\n",
            "Día 26\n",
            "Crecimiento Bacteria A: 8.89\n",
            "Crecimiento Bacteria B: 14.95\n",
            "Día 27\n",
            "Crecimiento Bacteria A: 9.15\n",
            "Crecimiento Bacteria B: 15.17\n",
            "Día 28\n",
            "Crecimiento Bacteria A: 9.43\n",
            "Crecimiento Bacteria B: 15.4\n",
            "Día 29\n",
            "Crecimiento Bacteria A: 9.71\n",
            "Crecimiento Bacteria B: 15.63\n",
            "Día 30\n",
            "Crecimiento Bacteria A: 10.0\n",
            "Crecimiento Bacteria B: 15.87\n",
            "Día 31\n",
            "Crecimiento Bacteria A: 10.3\n",
            "Crecimiento Bacteria B: 16.1\n",
            "Día 32\n",
            "Crecimiento Bacteria A: 10.61\n",
            "Crecimiento Bacteria B: 16.34\n",
            "Día 33\n",
            "Crecimiento Bacteria A: 10.93\n",
            "Crecimiento Bacteria B: 16.59\n",
            "Día 34\n",
            "Crecimiento Bacteria A: 11.26\n",
            "Crecimiento Bacteria B: 16.84\n",
            "Día 35\n",
            "Crecimiento Bacteria A: 11.59\n",
            "Crecimiento Bacteria B: 17.09\n",
            "Día 36\n",
            "Crecimiento Bacteria A: 11.94\n",
            "Crecimiento Bacteria B: 17.35\n",
            "Día 37\n",
            "Crecimiento Bacteria A: 12.3\n",
            "Crecimiento Bacteria B: 17.61\n",
            "Día 38\n",
            "Crecimiento Bacteria A: 12.67\n",
            "Crecimiento Bacteria B: 17.87\n",
            "Día 39\n",
            "Crecimiento Bacteria A: 13.05\n",
            "Crecimiento Bacteria B: 18.14\n",
            "Día 40\n",
            "Crecimiento Bacteria A: 13.44\n",
            "Crecimiento Bacteria B: 18.41\n",
            "Día 41\n",
            "Crecimiento Bacteria A: 13.84\n",
            "Crecimiento Bacteria B: 18.69\n",
            "Día 42\n",
            "Crecimiento Bacteria A: 14.26\n",
            "Crecimiento Bacteria B: 18.97\n",
            "Día 43\n",
            "Crecimiento Bacteria A: 14.69\n",
            "Crecimiento Bacteria B: 19.25\n",
            "Día 44\n",
            "Crecimiento Bacteria A: 15.13\n",
            "Crecimiento Bacteria B: 19.54\n",
            "Día 45\n",
            "Crecimiento Bacteria A: 15.58\n",
            "Crecimiento Bacteria B: 19.84\n",
            "Día 46\n",
            "Crecimiento Bacteria A: 16.05\n",
            "Crecimiento Bacteria B: 20.13\n",
            "Día 47\n",
            "Crecimiento Bacteria A: 16.53\n",
            "Crecimiento Bacteria B: 20.43\n",
            "Día 48\n",
            "Crecimiento Bacteria A: 17.02\n",
            "Crecimiento Bacteria B: 20.74\n",
            "Día 49\n",
            "Crecimiento Bacteria A: 17.54\n",
            "Crecimiento Bacteria B: 21.05\n",
            "Día 50\n",
            "Crecimiento Bacteria A: 18.06\n",
            "Crecimiento Bacteria B: 21.37\n",
            "Día 51\n",
            "Crecimiento Bacteria A: 18.6\n",
            "Crecimiento Bacteria B: 21.69\n",
            "Día 52\n",
            "Crecimiento Bacteria A: 19.16\n",
            "Crecimiento Bacteria B: 22.01\n",
            "Día 53\n",
            "Crecimiento Bacteria A: 19.74\n",
            "Crecimiento Bacteria B: 22.34\n",
            "Día 54\n",
            "Crecimiento Bacteria A: 20.33\n",
            "Crecimiento Bacteria B: 22.68\n",
            "Día 55\n",
            "Crecimiento Bacteria A: 20.94\n",
            "Crecimiento Bacteria B: 23.02\n",
            "Día 56\n",
            "Crecimiento Bacteria A: 21.57\n",
            "Crecimiento Bacteria B: 23.36\n",
            "Día 57\n",
            "Crecimiento Bacteria A: 22.21\n",
            "Crecimiento Bacteria B: 23.72\n",
            "Día 58\n",
            "Crecimiento Bacteria A: 22.88\n",
            "Crecimiento Bacteria B: 24.07\n",
            "Día 59\n",
            "Crecimiento Bacteria A: 23.57\n",
            "Crecimiento Bacteria B: 24.43\n",
            "Día 60\n",
            "Crecimiento Bacteria A: 24.27\n",
            "Crecimiento Bacteria B: 24.8\n",
            "Día 61\n",
            "Crecimiento Bacteria A: 25.0\n",
            "Crecimiento Bacteria B: 25.17\n",
            "Día 62\n",
            "Crecimiento Bacteria A: 25.75\n",
            "Crecimiento Bacteria B: 25.55\n",
            "Se necesitaron 63 dias para que la bacteria A supere a la bacteria B\n"
          ]
        }
      ]
    },
    {
      "cell_type": "code",
      "source": [
        "cant_datos = 16\n",
        "#Verificar si las calificaciones son validad\n",
        "lista_num = []\n",
        "for j in range(1, cant_datos):\n",
        "  for i in range(1,6):\n",
        "    num_user = int(input(f'{j}-Califique el serivicio brindado de: 0 al 5:'))\n",
        "    if (num_user >= 0 and num_user <= 5):\n",
        "      lista_num.append(num_user)\n",
        "      break\n",
        "    else:\n",
        "      print('Valor incorrecto, igrese un numero valido!')\n",
        "      continue\n",
        "for c in lista_num:\n",
        "  print(f'Calificacion - {c}')"
      ],
      "metadata": {
        "id": "mCb0Taq9woqE",
        "colab": {
          "base_uri": "https://localhost:8080/"
        },
        "outputId": "fa7ed9ed-f698-42c8-8370-973dab75d963"
      },
      "execution_count": null,
      "outputs": [
        {
          "output_type": "stream",
          "name": "stdout",
          "text": [
            "1-Califique el serivicio brindado de: 0 al 5:1\n",
            "2-Califique el serivicio brindado de: 0 al 5:2\n",
            "3-Califique el serivicio brindado de: 0 al 5:3\n",
            "4-Califique el serivicio brindado de: 0 al 5:4\n",
            "5-Califique el serivicio brindado de: 0 al 5:5\n",
            "6-Califique el serivicio brindado de: 0 al 5:1\n",
            "7-Califique el serivicio brindado de: 0 al 5:2\n",
            "8-Califique el serivicio brindado de: 0 al 5:3\n",
            "9-Califique el serivicio brindado de: 0 al 5:4\n",
            "10-Califique el serivicio brindado de: 0 al 5:5\n",
            "11-Califique el serivicio brindado de: 0 al 5:1\n",
            "12-Califique el serivicio brindado de: 0 al 5:2\n",
            "13-Califique el serivicio brindado de: 0 al 5:3\n",
            "14-Califique el serivicio brindado de: 0 al 5:4\n",
            "15-Califique el serivicio brindado de: 0 al 5:5\n",
            "Calificacion - 1\n",
            "Calificacion - 2\n",
            "Calificacion - 3\n",
            "Calificacion - 4\n",
            "Calificacion - 5\n",
            "Calificacion - 1\n",
            "Calificacion - 2\n",
            "Calificacion - 3\n",
            "Calificacion - 4\n",
            "Calificacion - 5\n",
            "Calificacion - 1\n",
            "Calificacion - 2\n",
            "Calificacion - 3\n",
            "Calificacion - 4\n",
            "Calificacion - 5\n"
          ]
        }
      ]
    },
    {
      "cell_type": "code",
      "source": [
        "#conjunto indefinido de temperaturas\n",
        "temperaturas = [25, 30, 15, -5, 0, 37, 18, -273, 42, -10, -20, 100, 12, 8, -40, -273]\n",
        "for i in (temperaturas):\n",
        "  if(i == -273):\n",
        "    print(f'Temperatura no valida! -> {i}')\n",
        "    break\n",
        "  else:\n",
        "    print(i)"
      ],
      "metadata": {
        "colab": {
          "base_uri": "https://localhost:8080/"
        },
        "id": "5PGxOw4wc9i-",
        "outputId": "c74e556a-5e56-477e-bd81-d1f8b33ad703"
      },
      "execution_count": null,
      "outputs": [
        {
          "output_type": "stream",
          "name": "stdout",
          "text": [
            "25\n",
            "30\n",
            "15\n",
            "-5\n",
            "0\n",
            "37\n",
            "18\n",
            "Temperatura no valida! -> -273\n"
          ]
        }
      ]
    },
    {
      "cell_type": "code",
      "source": [
        "#Calculando el factorial\n",
        "\n",
        "numero = int(input('Ingrese un numero mayor que 0:'))\n",
        "count = numero\n",
        "factorial = 1\n",
        "while count > 0:\n",
        "  factorial*= count\n",
        "  count -= 1\n",
        "print(f\"El factorial de {numero} es: {factorial}\")"
      ],
      "metadata": {
        "colab": {
          "base_uri": "https://localhost:8080/"
        },
        "id": "LVhmqhcCm-h-",
        "outputId": "027cc442-e693-4500-93be-d915eddaf8c1"
      },
      "execution_count": null,
      "outputs": [
        {
          "output_type": "stream",
          "name": "stdout",
          "text": [
            "Ingrese un numero mayor que 0:10\n",
            "El factorial de 10 es: 3628800\n"
          ]
        }
      ]
    },
    {
      "cell_type": "code",
      "source": [
        "#Tabla\n",
        "numero_user = int(input('Ingrese un numero:'))\n",
        "for i in range(1,11):\n",
        "  print(f'{numero_user} * {i} = {numero_user * i}')\n"
      ],
      "metadata": {
        "colab": {
          "base_uri": "https://localhost:8080/"
        },
        "id": "jbHR0Gf7rDye",
        "outputId": "368b6900-02f9-4556-e6b5-8c513dc3c925"
      },
      "execution_count": null,
      "outputs": [
        {
          "output_type": "stream",
          "name": "stdout",
          "text": [
            "Ingrese un numero:2\n",
            "2 * 1 = 2\n",
            "2 * 2 = 4\n",
            "2 * 3 = 6\n",
            "2 * 4 = 8\n",
            "2 * 5 = 10\n",
            "2 * 6 = 12\n",
            "2 * 7 = 14\n",
            "2 * 8 = 16\n",
            "2 * 9 = 18\n",
            "2 * 10 = 20\n"
          ]
        }
      ]
    },
    {
      "cell_type": "code",
      "source": [
        "#numeros primos\n",
        "numero = int(input('Ingrese un numero:'))\n",
        "count = 0\n",
        "if numero > 1:\n",
        "  for i in range(1, numero +1):\n",
        "    resultado = numero / i\n",
        "    if resultado == int(resultado):\n",
        "      count += 1\n",
        "  if count == 2:\n",
        "    print(f'El numero {numero} es primo')\n",
        "  else:\n",
        "    print(f'El numero {numero} no es primo')\n",
        "else:\n",
        "  print(f'El numero {numero} no es primo')"
      ],
      "metadata": {
        "id": "dFU2yHwwtlw_",
        "outputId": "a52658e5-d634-4d1b-bdad-b1a27e454b7e",
        "colab": {
          "base_uri": "https://localhost:8080/"
        }
      },
      "execution_count": 15,
      "outputs": [
        {
          "output_type": "stream",
          "name": "stdout",
          "text": [
            "Ingrese un numero:8\n",
            "El numero 8 no es primo\n"
          ]
        }
      ]
    },
    {
      "cell_type": "code",
      "source": [],
      "metadata": {
        "id": "xB8pGN_edtBi"
      },
      "execution_count": null,
      "outputs": []
    }
  ]
}